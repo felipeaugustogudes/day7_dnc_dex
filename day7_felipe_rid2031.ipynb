{
  "nbformat": 4,
  "nbformat_minor": 0,
  "metadata": {
    "colab": {
      "name": "day7_felipe_rid2031.ipynb",
      "provenance": [],
      "collapsed_sections": []
    },
    "kernelspec": {
      "name": "python3",
      "display_name": "Python 3"
    },
    "language_info": {
      "name": "python"
    }
  },
  "cells": [
    {
      "cell_type": "markdown",
      "metadata": {
        "id": "DH1IrJETJ_Cx"
      },
      "source": [
        "# 1.Contexto do Problema"
      ]
    },
    {
      "cell_type": "markdown",
      "metadata": {
        "id": "MWGxBxyIKCZ3"
      },
      "source": [
        "Durante a pandemia os números de vendas da Razzle Dazzle (e-commerce de variedades) dispararam, bem como o da concorrência. Uma das maneiras de se destacar nesse mercado cada vez mais competitivo é oferecer o produto certo para a pessoa certa.\n",
        "\n",
        "Então, você foi contratado desenvolver pelo menos um modelo de recomendação, que será disponibilizado no novo site da empresa. Além do modelo, é necessário informar qual o melhor momento para usá-lo, em propagandas, quando o cliente estiver fazendo uma pesquisa ou quando o cliente estiver vendo um produto. É fundamental que isso seja pensado no desenvolvimento do modelo."
      ]
    },
    {
      "cell_type": "markdown",
      "metadata": {
        "id": "RIpfh_kiqEtT"
      },
      "source": [
        "# 2. Pacotes Python"
      ]
    },
    {
      "cell_type": "code",
      "metadata": {
        "id": "Igym9ZkqVnm8"
      },
      "source": [
        "import pandas  as pd\n",
        "import numpy   as np\n",
        "import seaborn as sns\n",
        "from google.colab import drive\n",
        "from sklearn.metrics.pairwise import cosine_similarity"
      ],
      "execution_count": 242,
      "outputs": []
    },
    {
      "cell_type": "code",
      "metadata": {
        "colab": {
          "base_uri": "https://localhost:8080/"
        },
        "id": "g_xC96poVt8B",
        "outputId": "dbb9bc0e-1163-42ad-d17a-fc3d48374ea3"
      },
      "source": [
        "drive.mount('/content/gdrive', force_remount=True)"
      ],
      "execution_count": 243,
      "outputs": [
        {
          "output_type": "stream",
          "name": "stdout",
          "text": [
            "Mounted at /content/gdrive\n"
          ]
        }
      ]
    },
    {
      "cell_type": "markdown",
      "metadata": {
        "id": "TAs6b6EyqNjD"
      },
      "source": [
        "# 3. Leitura Data Sets"
      ]
    },
    {
      "cell_type": "code",
      "metadata": {
        "id": "EvbJVAJFVvhJ"
      },
      "source": [
        "link1 = '/content/gdrive/MyDrive/Colab Notebooks/Day7/DNC_order_items_dataset.csv'\n",
        "df1 = pd.read_csv(link1,index_col='Unnamed: 0')"
      ],
      "execution_count": 244,
      "outputs": []
    },
    {
      "cell_type": "code",
      "metadata": {
        "colab": {
          "base_uri": "https://localhost:8080/",
          "height": 204
        },
        "id": "gfEEdnytXCPh",
        "outputId": "324d19bb-c687-4d7b-ea01-6a4a0264e1c5"
      },
      "source": [
        "df1.head()"
      ],
      "execution_count": 245,
      "outputs": [
        {
          "output_type": "execute_result",
          "data": {
            "text/html": [
              "<div>\n",
              "<style scoped>\n",
              "    .dataframe tbody tr th:only-of-type {\n",
              "        vertical-align: middle;\n",
              "    }\n",
              "\n",
              "    .dataframe tbody tr th {\n",
              "        vertical-align: top;\n",
              "    }\n",
              "\n",
              "    .dataframe thead th {\n",
              "        text-align: right;\n",
              "    }\n",
              "</style>\n",
              "<table border=\"1\" class=\"dataframe\">\n",
              "  <thead>\n",
              "    <tr style=\"text-align: right;\">\n",
              "      <th></th>\n",
              "      <th>order_id</th>\n",
              "      <th>order_item_id</th>\n",
              "      <th>product_id</th>\n",
              "      <th>price</th>\n",
              "    </tr>\n",
              "  </thead>\n",
              "  <tbody>\n",
              "    <tr>\n",
              "      <th>0</th>\n",
              "      <td>00010242fe8c5a6d1ba2dd792cb16214</td>\n",
              "      <td>1</td>\n",
              "      <td>4244733e06e7ecb4970a6e2683c13e61</td>\n",
              "      <td>58.90</td>\n",
              "    </tr>\n",
              "    <tr>\n",
              "      <th>1</th>\n",
              "      <td>00018f77f2f0320c557190d7a144bdd3</td>\n",
              "      <td>1</td>\n",
              "      <td>e5f2d52b802189ee658865ca93d83a8f</td>\n",
              "      <td>239.90</td>\n",
              "    </tr>\n",
              "    <tr>\n",
              "      <th>2</th>\n",
              "      <td>000229ec398224ef6ca0657da4fc703e</td>\n",
              "      <td>1</td>\n",
              "      <td>c777355d18b72b67abbeef9df44fd0fd</td>\n",
              "      <td>199.00</td>\n",
              "    </tr>\n",
              "    <tr>\n",
              "      <th>3</th>\n",
              "      <td>00024acbcdf0a6daa1e931b038114c75</td>\n",
              "      <td>1</td>\n",
              "      <td>7634da152a4610f1595efa32f14722fc</td>\n",
              "      <td>12.99</td>\n",
              "    </tr>\n",
              "    <tr>\n",
              "      <th>4</th>\n",
              "      <td>00042b26cf59d7ce69dfabb4e55b4fd9</td>\n",
              "      <td>1</td>\n",
              "      <td>ac6c3623068f30de03045865e4e10089</td>\n",
              "      <td>199.90</td>\n",
              "    </tr>\n",
              "  </tbody>\n",
              "</table>\n",
              "</div>"
            ],
            "text/plain": [
              "                           order_id  ...   price\n",
              "0  00010242fe8c5a6d1ba2dd792cb16214  ...   58.90\n",
              "1  00018f77f2f0320c557190d7a144bdd3  ...  239.90\n",
              "2  000229ec398224ef6ca0657da4fc703e  ...  199.00\n",
              "3  00024acbcdf0a6daa1e931b038114c75  ...   12.99\n",
              "4  00042b26cf59d7ce69dfabb4e55b4fd9  ...  199.90\n",
              "\n",
              "[5 rows x 4 columns]"
            ]
          },
          "metadata": {},
          "execution_count": 245
        }
      ]
    },
    {
      "cell_type": "code",
      "metadata": {
        "id": "Mz2g9do4WgAf"
      },
      "source": [
        "link2 = '/content/gdrive/MyDrive/Colab Notebooks/Day7/DNC_order_reviews_dataset.csv'\n",
        "df2 = pd.read_csv(link2,index_col='Unnamed: 0')"
      ],
      "execution_count": 246,
      "outputs": []
    },
    {
      "cell_type": "code",
      "metadata": {
        "colab": {
          "base_uri": "https://localhost:8080/",
          "height": 204
        },
        "id": "FoDfrmEQsK1F",
        "outputId": "06fd6bb1-ce3b-4b1f-de74-17cbc8f588e9"
      },
      "source": [
        "df2.head()"
      ],
      "execution_count": 247,
      "outputs": [
        {
          "output_type": "execute_result",
          "data": {
            "text/html": [
              "<div>\n",
              "<style scoped>\n",
              "    .dataframe tbody tr th:only-of-type {\n",
              "        vertical-align: middle;\n",
              "    }\n",
              "\n",
              "    .dataframe tbody tr th {\n",
              "        vertical-align: top;\n",
              "    }\n",
              "\n",
              "    .dataframe thead th {\n",
              "        text-align: right;\n",
              "    }\n",
              "</style>\n",
              "<table border=\"1\" class=\"dataframe\">\n",
              "  <thead>\n",
              "    <tr style=\"text-align: right;\">\n",
              "      <th></th>\n",
              "      <th>review_id</th>\n",
              "      <th>order_id</th>\n",
              "      <th>review_score</th>\n",
              "    </tr>\n",
              "  </thead>\n",
              "  <tbody>\n",
              "    <tr>\n",
              "      <th>0</th>\n",
              "      <td>7bc2406110b926393aa56f80a40eba40</td>\n",
              "      <td>73fc7af87114b39712e6da79b0a377eb</td>\n",
              "      <td>4</td>\n",
              "    </tr>\n",
              "    <tr>\n",
              "      <th>1</th>\n",
              "      <td>80e641a11e56f04c1ad469d5645fdfde</td>\n",
              "      <td>a548910a1c6147796b98fdf73dbeba33</td>\n",
              "      <td>5</td>\n",
              "    </tr>\n",
              "    <tr>\n",
              "      <th>2</th>\n",
              "      <td>228ce5500dc1d8e020d8d1322874b6f0</td>\n",
              "      <td>f9e4b658b201a9f2ecdecbb34bed034b</td>\n",
              "      <td>5</td>\n",
              "    </tr>\n",
              "    <tr>\n",
              "      <th>3</th>\n",
              "      <td>e64fb393e7b32834bb789ff8bb30750e</td>\n",
              "      <td>658677c97b385a9be170737859d3511b</td>\n",
              "      <td>5</td>\n",
              "    </tr>\n",
              "    <tr>\n",
              "      <th>4</th>\n",
              "      <td>f7c4243c7fe1938f181bec41a392bdeb</td>\n",
              "      <td>8e6bfb81e283fa7e4f11123a3fb894f1</td>\n",
              "      <td>5</td>\n",
              "    </tr>\n",
              "  </tbody>\n",
              "</table>\n",
              "</div>"
            ],
            "text/plain": [
              "                          review_id  ... review_score\n",
              "0  7bc2406110b926393aa56f80a40eba40  ...            4\n",
              "1  80e641a11e56f04c1ad469d5645fdfde  ...            5\n",
              "2  228ce5500dc1d8e020d8d1322874b6f0  ...            5\n",
              "3  e64fb393e7b32834bb789ff8bb30750e  ...            5\n",
              "4  f7c4243c7fe1938f181bec41a392bdeb  ...            5\n",
              "\n",
              "[5 rows x 3 columns]"
            ]
          },
          "metadata": {},
          "execution_count": 247
        }
      ]
    },
    {
      "cell_type": "code",
      "metadata": {
        "id": "uUkC2yEBWgd1"
      },
      "source": [
        "link3 = '/content/gdrive/MyDrive/Colab Notebooks/Day7/DNC_orders_dataset.csv'\n",
        "df3 = pd.read_csv(link3,index_col='Unnamed: 0')"
      ],
      "execution_count": 248,
      "outputs": []
    },
    {
      "cell_type": "code",
      "metadata": {
        "id": "bhy-22rEezFY",
        "colab": {
          "base_uri": "https://localhost:8080/",
          "height": 204
        },
        "outputId": "1053ee18-0ce7-4770-bc30-19a392c973fa"
      },
      "source": [
        "df3.head()"
      ],
      "execution_count": 249,
      "outputs": [
        {
          "output_type": "execute_result",
          "data": {
            "text/html": [
              "<div>\n",
              "<style scoped>\n",
              "    .dataframe tbody tr th:only-of-type {\n",
              "        vertical-align: middle;\n",
              "    }\n",
              "\n",
              "    .dataframe tbody tr th {\n",
              "        vertical-align: top;\n",
              "    }\n",
              "\n",
              "    .dataframe thead th {\n",
              "        text-align: right;\n",
              "    }\n",
              "</style>\n",
              "<table border=\"1\" class=\"dataframe\">\n",
              "  <thead>\n",
              "    <tr style=\"text-align: right;\">\n",
              "      <th></th>\n",
              "      <th>order_id</th>\n",
              "      <th>customer_id</th>\n",
              "      <th>order_status</th>\n",
              "    </tr>\n",
              "  </thead>\n",
              "  <tbody>\n",
              "    <tr>\n",
              "      <th>0</th>\n",
              "      <td>e481f51cbdc54678b7cc49136f2d6af7</td>\n",
              "      <td>9ef432eb6251297304e76186b10a928d</td>\n",
              "      <td>delivered</td>\n",
              "    </tr>\n",
              "    <tr>\n",
              "      <th>1</th>\n",
              "      <td>53cdb2fc8bc7dce0b6741e2150273451</td>\n",
              "      <td>b0830fb4747a6c6d20dea0b8c802d7ef</td>\n",
              "      <td>delivered</td>\n",
              "    </tr>\n",
              "    <tr>\n",
              "      <th>2</th>\n",
              "      <td>47770eb9100c2d0c44946d9cf07ec65d</td>\n",
              "      <td>41ce2a54c0b03bf3443c3d931a367089</td>\n",
              "      <td>delivered</td>\n",
              "    </tr>\n",
              "    <tr>\n",
              "      <th>3</th>\n",
              "      <td>949d5b44dbf5de918fe9c16f97b45f8a</td>\n",
              "      <td>f88197465ea7920adcdbec7375364d82</td>\n",
              "      <td>delivered</td>\n",
              "    </tr>\n",
              "    <tr>\n",
              "      <th>4</th>\n",
              "      <td>ad21c59c0840e6cb83a9ceb5573f8159</td>\n",
              "      <td>8ab97904e6daea8866dbdbc4fb7aad2c</td>\n",
              "      <td>delivered</td>\n",
              "    </tr>\n",
              "  </tbody>\n",
              "</table>\n",
              "</div>"
            ],
            "text/plain": [
              "                           order_id  ... order_status\n",
              "0  e481f51cbdc54678b7cc49136f2d6af7  ...    delivered\n",
              "1  53cdb2fc8bc7dce0b6741e2150273451  ...    delivered\n",
              "2  47770eb9100c2d0c44946d9cf07ec65d  ...    delivered\n",
              "3  949d5b44dbf5de918fe9c16f97b45f8a  ...    delivered\n",
              "4  ad21c59c0840e6cb83a9ceb5573f8159  ...    delivered\n",
              "\n",
              "[5 rows x 3 columns]"
            ]
          },
          "metadata": {},
          "execution_count": 249
        }
      ]
    },
    {
      "cell_type": "code",
      "metadata": {
        "id": "uqjXEH89WiUi"
      },
      "source": [
        "link4 = '/content/gdrive/MyDrive/Colab Notebooks/Day7/DNC_products_dataset.csv'\n",
        "df4 = pd.read_csv(link4,index_col='Unnamed: 0')"
      ],
      "execution_count": 250,
      "outputs": []
    },
    {
      "cell_type": "code",
      "metadata": {
        "colab": {
          "base_uri": "https://localhost:8080/",
          "height": 204
        },
        "id": "g2gnZO7GXBIR",
        "outputId": "c9de7338-82b3-4d31-cba1-d71dd47c5b22"
      },
      "source": [
        "df4.head()"
      ],
      "execution_count": 251,
      "outputs": [
        {
          "output_type": "execute_result",
          "data": {
            "text/html": [
              "<div>\n",
              "<style scoped>\n",
              "    .dataframe tbody tr th:only-of-type {\n",
              "        vertical-align: middle;\n",
              "    }\n",
              "\n",
              "    .dataframe tbody tr th {\n",
              "        vertical-align: top;\n",
              "    }\n",
              "\n",
              "    .dataframe thead th {\n",
              "        text-align: right;\n",
              "    }\n",
              "</style>\n",
              "<table border=\"1\" class=\"dataframe\">\n",
              "  <thead>\n",
              "    <tr style=\"text-align: right;\">\n",
              "      <th></th>\n",
              "      <th>product_id</th>\n",
              "      <th>product_category_name</th>\n",
              "      <th>product_name_lenght</th>\n",
              "      <th>product_description_lenght</th>\n",
              "      <th>product_weight_g</th>\n",
              "      <th>product_length_cm</th>\n",
              "      <th>product_height_cm</th>\n",
              "      <th>product_width_cm</th>\n",
              "    </tr>\n",
              "  </thead>\n",
              "  <tbody>\n",
              "    <tr>\n",
              "      <th>0</th>\n",
              "      <td>1e9e8ef04dbcff4541ed26657ea517e5</td>\n",
              "      <td>perfumaria</td>\n",
              "      <td>40.0</td>\n",
              "      <td>287.0</td>\n",
              "      <td>225.0</td>\n",
              "      <td>16.0</td>\n",
              "      <td>10.0</td>\n",
              "      <td>14.0</td>\n",
              "    </tr>\n",
              "    <tr>\n",
              "      <th>1</th>\n",
              "      <td>3aa071139cb16b67ca9e5dea641aaa2f</td>\n",
              "      <td>artes</td>\n",
              "      <td>44.0</td>\n",
              "      <td>276.0</td>\n",
              "      <td>1000.0</td>\n",
              "      <td>30.0</td>\n",
              "      <td>18.0</td>\n",
              "      <td>20.0</td>\n",
              "    </tr>\n",
              "    <tr>\n",
              "      <th>2</th>\n",
              "      <td>96bd76ec8810374ed1b65e291975717f</td>\n",
              "      <td>esporte_lazer</td>\n",
              "      <td>46.0</td>\n",
              "      <td>250.0</td>\n",
              "      <td>154.0</td>\n",
              "      <td>18.0</td>\n",
              "      <td>9.0</td>\n",
              "      <td>15.0</td>\n",
              "    </tr>\n",
              "    <tr>\n",
              "      <th>3</th>\n",
              "      <td>cef67bcfe19066a932b7673e239eb23d</td>\n",
              "      <td>bebes</td>\n",
              "      <td>27.0</td>\n",
              "      <td>261.0</td>\n",
              "      <td>371.0</td>\n",
              "      <td>26.0</td>\n",
              "      <td>4.0</td>\n",
              "      <td>26.0</td>\n",
              "    </tr>\n",
              "    <tr>\n",
              "      <th>4</th>\n",
              "      <td>9dc1a7de274444849c219cff195d0b71</td>\n",
              "      <td>utilidades_domesticas</td>\n",
              "      <td>37.0</td>\n",
              "      <td>402.0</td>\n",
              "      <td>625.0</td>\n",
              "      <td>20.0</td>\n",
              "      <td>17.0</td>\n",
              "      <td>13.0</td>\n",
              "    </tr>\n",
              "  </tbody>\n",
              "</table>\n",
              "</div>"
            ],
            "text/plain": [
              "                         product_id  ... product_width_cm\n",
              "0  1e9e8ef04dbcff4541ed26657ea517e5  ...             14.0\n",
              "1  3aa071139cb16b67ca9e5dea641aaa2f  ...             20.0\n",
              "2  96bd76ec8810374ed1b65e291975717f  ...             15.0\n",
              "3  cef67bcfe19066a932b7673e239eb23d  ...             26.0\n",
              "4  9dc1a7de274444849c219cff195d0b71  ...             13.0\n",
              "\n",
              "[5 rows x 8 columns]"
            ]
          },
          "metadata": {},
          "execution_count": 251
        }
      ]
    },
    {
      "cell_type": "markdown",
      "metadata": {
        "id": "0yi80u_LqcUW"
      },
      "source": [
        "# 4. Concatenando Data Sets"
      ]
    },
    {
      "cell_type": "code",
      "metadata": {
        "colab": {
          "base_uri": "https://localhost:8080/",
          "height": 224
        },
        "id": "f66E_D9ZDvwY",
        "outputId": "df3c8b18-1aaa-4d88-ec72-5e88b5373cd6"
      },
      "source": [
        "df_concat = df1.merge(df2, on=['order_id'], how='inner')\n",
        "df_concat = df_concat.merge(df3, on=['order_id'], how='inner')\n",
        "df_concat = df_concat.merge(df4, on=['product_id'], how='inner')\n",
        "df_concat.head()"
      ],
      "execution_count": 252,
      "outputs": [
        {
          "output_type": "execute_result",
          "data": {
            "text/html": [
              "<div>\n",
              "<style scoped>\n",
              "    .dataframe tbody tr th:only-of-type {\n",
              "        vertical-align: middle;\n",
              "    }\n",
              "\n",
              "    .dataframe tbody tr th {\n",
              "        vertical-align: top;\n",
              "    }\n",
              "\n",
              "    .dataframe thead th {\n",
              "        text-align: right;\n",
              "    }\n",
              "</style>\n",
              "<table border=\"1\" class=\"dataframe\">\n",
              "  <thead>\n",
              "    <tr style=\"text-align: right;\">\n",
              "      <th></th>\n",
              "      <th>order_id</th>\n",
              "      <th>order_item_id</th>\n",
              "      <th>product_id</th>\n",
              "      <th>price</th>\n",
              "      <th>review_id</th>\n",
              "      <th>review_score</th>\n",
              "      <th>customer_id</th>\n",
              "      <th>order_status</th>\n",
              "      <th>product_category_name</th>\n",
              "      <th>product_name_lenght</th>\n",
              "      <th>product_description_lenght</th>\n",
              "      <th>product_weight_g</th>\n",
              "      <th>product_length_cm</th>\n",
              "      <th>product_height_cm</th>\n",
              "      <th>product_width_cm</th>\n",
              "    </tr>\n",
              "  </thead>\n",
              "  <tbody>\n",
              "    <tr>\n",
              "      <th>0</th>\n",
              "      <td>00010242fe8c5a6d1ba2dd792cb16214</td>\n",
              "      <td>1</td>\n",
              "      <td>4244733e06e7ecb4970a6e2683c13e61</td>\n",
              "      <td>58.9</td>\n",
              "      <td>97ca439bc427b48bc1cd7177abe71365</td>\n",
              "      <td>5</td>\n",
              "      <td>3ce436f183e68e07877b285a838db11a</td>\n",
              "      <td>delivered</td>\n",
              "      <td>cool_stuff</td>\n",
              "      <td>58.0</td>\n",
              "      <td>598.0</td>\n",
              "      <td>650.0</td>\n",
              "      <td>28.0</td>\n",
              "      <td>9.0</td>\n",
              "      <td>14.0</td>\n",
              "    </tr>\n",
              "    <tr>\n",
              "      <th>1</th>\n",
              "      <td>130898c0987d1801452a8ed92a670612</td>\n",
              "      <td>1</td>\n",
              "      <td>4244733e06e7ecb4970a6e2683c13e61</td>\n",
              "      <td>55.9</td>\n",
              "      <td>b11cba360bbe71410c291b764753d37f</td>\n",
              "      <td>5</td>\n",
              "      <td>e6eecc5a77de221464d1c4eaff0a9b64</td>\n",
              "      <td>delivered</td>\n",
              "      <td>cool_stuff</td>\n",
              "      <td>58.0</td>\n",
              "      <td>598.0</td>\n",
              "      <td>650.0</td>\n",
              "      <td>28.0</td>\n",
              "      <td>9.0</td>\n",
              "      <td>14.0</td>\n",
              "    </tr>\n",
              "    <tr>\n",
              "      <th>2</th>\n",
              "      <td>532ed5e14e24ae1f0d735b91524b98b9</td>\n",
              "      <td>1</td>\n",
              "      <td>4244733e06e7ecb4970a6e2683c13e61</td>\n",
              "      <td>64.9</td>\n",
              "      <td>af01c4017c5ab46df6cc810e069e654a</td>\n",
              "      <td>4</td>\n",
              "      <td>4ef55bf80f711b372afebcb7c715344a</td>\n",
              "      <td>delivered</td>\n",
              "      <td>cool_stuff</td>\n",
              "      <td>58.0</td>\n",
              "      <td>598.0</td>\n",
              "      <td>650.0</td>\n",
              "      <td>28.0</td>\n",
              "      <td>9.0</td>\n",
              "      <td>14.0</td>\n",
              "    </tr>\n",
              "    <tr>\n",
              "      <th>3</th>\n",
              "      <td>6f8c31653edb8c83e1a739408b5ff750</td>\n",
              "      <td>1</td>\n",
              "      <td>4244733e06e7ecb4970a6e2683c13e61</td>\n",
              "      <td>58.9</td>\n",
              "      <td>8304ff37d8b16b57086fa283fe0c44f8</td>\n",
              "      <td>5</td>\n",
              "      <td>30407a72ad8b3f4df4d15369126b20c9</td>\n",
              "      <td>delivered</td>\n",
              "      <td>cool_stuff</td>\n",
              "      <td>58.0</td>\n",
              "      <td>598.0</td>\n",
              "      <td>650.0</td>\n",
              "      <td>28.0</td>\n",
              "      <td>9.0</td>\n",
              "      <td>14.0</td>\n",
              "    </tr>\n",
              "    <tr>\n",
              "      <th>4</th>\n",
              "      <td>7d19f4ef4d04461989632411b7e588b9</td>\n",
              "      <td>1</td>\n",
              "      <td>4244733e06e7ecb4970a6e2683c13e61</td>\n",
              "      <td>58.9</td>\n",
              "      <td>426f43a82185969503fb3c86241a9535</td>\n",
              "      <td>5</td>\n",
              "      <td>91a792fef70ecd8cc69d3c7feb3d12da</td>\n",
              "      <td>delivered</td>\n",
              "      <td>cool_stuff</td>\n",
              "      <td>58.0</td>\n",
              "      <td>598.0</td>\n",
              "      <td>650.0</td>\n",
              "      <td>28.0</td>\n",
              "      <td>9.0</td>\n",
              "      <td>14.0</td>\n",
              "    </tr>\n",
              "  </tbody>\n",
              "</table>\n",
              "</div>"
            ],
            "text/plain": [
              "                           order_id  ...  product_width_cm\n",
              "0  00010242fe8c5a6d1ba2dd792cb16214  ...              14.0\n",
              "1  130898c0987d1801452a8ed92a670612  ...              14.0\n",
              "2  532ed5e14e24ae1f0d735b91524b98b9  ...              14.0\n",
              "3  6f8c31653edb8c83e1a739408b5ff750  ...              14.0\n",
              "4  7d19f4ef4d04461989632411b7e588b9  ...              14.0\n",
              "\n",
              "[5 rows x 15 columns]"
            ]
          },
          "metadata": {},
          "execution_count": 252
        }
      ]
    },
    {
      "cell_type": "markdown",
      "metadata": {
        "id": "XyNJPSVZqnXh"
      },
      "source": [
        "# 5. Análise e Tratamento do Data Set Concatenado"
      ]
    },
    {
      "cell_type": "code",
      "metadata": {
        "colab": {
          "base_uri": "https://localhost:8080/"
        },
        "id": "HFC7nLv6rYoe",
        "outputId": "b3d7d665-06a9-4750-c803-995a20ff0e7f"
      },
      "source": [
        "df_concat.shape"
      ],
      "execution_count": 253,
      "outputs": [
        {
          "output_type": "execute_result",
          "data": {
            "text/plain": [
              "(112372, 15)"
            ]
          },
          "metadata": {},
          "execution_count": 253
        }
      ]
    },
    {
      "cell_type": "code",
      "metadata": {
        "colab": {
          "base_uri": "https://localhost:8080/"
        },
        "id": "x3a1F_fsql8U",
        "outputId": "0756ab14-5ee4-408b-93d1-876962d47f35"
      },
      "source": [
        "df_concat.dtypes"
      ],
      "execution_count": 254,
      "outputs": [
        {
          "output_type": "execute_result",
          "data": {
            "text/plain": [
              "order_id                       object\n",
              "order_item_id                   int64\n",
              "product_id                     object\n",
              "price                         float64\n",
              "review_id                      object\n",
              "review_score                    int64\n",
              "customer_id                    object\n",
              "order_status                   object\n",
              "product_category_name          object\n",
              "product_name_lenght           float64\n",
              "product_description_lenght    float64\n",
              "product_weight_g              float64\n",
              "product_length_cm             float64\n",
              "product_height_cm             float64\n",
              "product_width_cm              float64\n",
              "dtype: object"
            ]
          },
          "metadata": {},
          "execution_count": 254
        }
      ]
    },
    {
      "cell_type": "code",
      "metadata": {
        "id": "Czo6uQqNvS09"
      },
      "source": [
        "df_concat['order_id'] = df_concat['order_id'].astype('string')\n",
        "df_concat['customer_id'] = df_concat['customer_id'].astype('string')\n",
        "df_concat['order_status'] = df_concat['order_status'].astype('string')\n",
        "df_concat['product_category_name'] = df_concat['product_category_name'].astype('string')\n",
        "df_concat['product_id'] = df_concat['product_id'].astype('string')\n",
        "df_concat['review_id'] = df_concat['review_id'].astype('string')"
      ],
      "execution_count": 255,
      "outputs": []
    },
    {
      "cell_type": "code",
      "metadata": {
        "colab": {
          "base_uri": "https://localhost:8080/"
        },
        "id": "3sk4j9_Yvl4R",
        "outputId": "8cddcf25-17fb-4324-dfc0-71f067096ee2"
      },
      "source": [
        "df_concat.dtypes"
      ],
      "execution_count": 256,
      "outputs": [
        {
          "output_type": "execute_result",
          "data": {
            "text/plain": [
              "order_id                       string\n",
              "order_item_id                   int64\n",
              "product_id                     string\n",
              "price                         float64\n",
              "review_id                      string\n",
              "review_score                    int64\n",
              "customer_id                    string\n",
              "order_status                   string\n",
              "product_category_name          string\n",
              "product_name_lenght           float64\n",
              "product_description_lenght    float64\n",
              "product_weight_g              float64\n",
              "product_length_cm             float64\n",
              "product_height_cm             float64\n",
              "product_width_cm              float64\n",
              "dtype: object"
            ]
          },
          "metadata": {},
          "execution_count": 256
        }
      ]
    },
    {
      "cell_type": "code",
      "metadata": {
        "colab": {
          "base_uri": "https://localhost:8080/"
        },
        "id": "g1uJTMH0rP0f",
        "outputId": "cf760455-2c9f-49d8-c94b-1533725ad618"
      },
      "source": [
        "df_concat.isna().sum()"
      ],
      "execution_count": 257,
      "outputs": [
        {
          "output_type": "execute_result",
          "data": {
            "text/plain": [
              "order_id                         0\n",
              "order_item_id                    0\n",
              "product_id                       0\n",
              "price                            0\n",
              "review_id                        0\n",
              "review_score                     0\n",
              "customer_id                      0\n",
              "order_status                     0\n",
              "product_category_name         1598\n",
              "product_name_lenght           1598\n",
              "product_description_lenght    1598\n",
              "product_weight_g                18\n",
              "product_length_cm               18\n",
              "product_height_cm               18\n",
              "product_width_cm                18\n",
              "dtype: int64"
            ]
          },
          "metadata": {},
          "execution_count": 257
        }
      ]
    },
    {
      "cell_type": "code",
      "metadata": {
        "id": "nhcwdat8reHf"
      },
      "source": [
        "df_concat.dropna(how='any',axis=0,inplace=True)"
      ],
      "execution_count": 258,
      "outputs": []
    },
    {
      "cell_type": "code",
      "metadata": {
        "id": "P7YHHutWxTFf"
      },
      "source": [
        "df_concat.drop_duplicates(subset =\"order_id\",keep = False, inplace = True)"
      ],
      "execution_count": 259,
      "outputs": []
    },
    {
      "cell_type": "code",
      "metadata": {
        "id": "O934O0DNy6NV"
      },
      "source": [
        "df = df_concat[['product_id','customer_id','review_score']]"
      ],
      "execution_count": 260,
      "outputs": []
    },
    {
      "cell_type": "code",
      "metadata": {
        "colab": {
          "base_uri": "https://localhost:8080/",
          "height": 297
        },
        "id": "DL2T0BGozd0v",
        "outputId": "03e0b6bb-d34f-4077-a10b-e6bb904f7032"
      },
      "source": [
        "df.describe()"
      ],
      "execution_count": 277,
      "outputs": [
        {
          "output_type": "execute_result",
          "data": {
            "text/html": [
              "<div>\n",
              "<style scoped>\n",
              "    .dataframe tbody tr th:only-of-type {\n",
              "        vertical-align: middle;\n",
              "    }\n",
              "\n",
              "    .dataframe tbody tr th {\n",
              "        vertical-align: top;\n",
              "    }\n",
              "\n",
              "    .dataframe thead th {\n",
              "        text-align: right;\n",
              "    }\n",
              "</style>\n",
              "<table border=\"1\" class=\"dataframe\">\n",
              "  <thead>\n",
              "    <tr style=\"text-align: right;\">\n",
              "      <th></th>\n",
              "      <th>review_score</th>\n",
              "    </tr>\n",
              "  </thead>\n",
              "  <tbody>\n",
              "    <tr>\n",
              "      <th>count</th>\n",
              "      <td>86532.000000</td>\n",
              "    </tr>\n",
              "    <tr>\n",
              "      <th>mean</th>\n",
              "      <td>4.162587</td>\n",
              "    </tr>\n",
              "    <tr>\n",
              "      <th>std</th>\n",
              "      <td>1.281801</td>\n",
              "    </tr>\n",
              "    <tr>\n",
              "      <th>min</th>\n",
              "      <td>1.000000</td>\n",
              "    </tr>\n",
              "    <tr>\n",
              "      <th>25%</th>\n",
              "      <td>4.000000</td>\n",
              "    </tr>\n",
              "    <tr>\n",
              "      <th>50%</th>\n",
              "      <td>5.000000</td>\n",
              "    </tr>\n",
              "    <tr>\n",
              "      <th>75%</th>\n",
              "      <td>5.000000</td>\n",
              "    </tr>\n",
              "    <tr>\n",
              "      <th>max</th>\n",
              "      <td>5.000000</td>\n",
              "    </tr>\n",
              "  </tbody>\n",
              "</table>\n",
              "</div>"
            ],
            "text/plain": [
              "       review_score\n",
              "count  86532.000000\n",
              "mean       4.162587\n",
              "std        1.281801\n",
              "min        1.000000\n",
              "25%        4.000000\n",
              "50%        5.000000\n",
              "75%        5.000000\n",
              "max        5.000000"
            ]
          },
          "metadata": {},
          "execution_count": 277
        }
      ]
    },
    {
      "cell_type": "markdown",
      "metadata": {
        "id": "RxnjyYgW_f_x"
      },
      "source": [
        "# 6. Filtros Colaborativos"
      ]
    },
    {
      "cell_type": "markdown",
      "metadata": {
        "id": "sDz1rpdoydSO"
      },
      "source": [
        "## 6.1 Itens Mais Populares -  Somatório de Avaliações\n"
      ]
    },
    {
      "cell_type": "code",
      "metadata": {
        "colab": {
          "base_uri": "https://localhost:8080/",
          "height": 390
        },
        "id": "Ci7b5Cynygv_",
        "outputId": "11da58a0-4a23-4f5a-b215-f8f275502b11"
      },
      "source": [
        "ratings_explicit = df[df['review_score'] != 0]\n",
        "ratings_sum = pd.DataFrame(ratings_explicit.groupby(['product_id'])['review_score'].sum())\n",
        "top10 = ratings_sum.sort_values('review_score', ascending = False).head(10)\n",
        "top10.rename(columns={'review_score': 'review_score_sum'},inplace=True)\n",
        "top10"
      ],
      "execution_count": 262,
      "outputs": [
        {
          "output_type": "execute_result",
          "data": {
            "text/html": [
              "<div>\n",
              "<style scoped>\n",
              "    .dataframe tbody tr th:only-of-type {\n",
              "        vertical-align: middle;\n",
              "    }\n",
              "\n",
              "    .dataframe tbody tr th {\n",
              "        vertical-align: top;\n",
              "    }\n",
              "\n",
              "    .dataframe thead th {\n",
              "        text-align: right;\n",
              "    }\n",
              "</style>\n",
              "<table border=\"1\" class=\"dataframe\">\n",
              "  <thead>\n",
              "    <tr style=\"text-align: right;\">\n",
              "      <th></th>\n",
              "      <th>review_score_sum</th>\n",
              "    </tr>\n",
              "    <tr>\n",
              "      <th>product_id</th>\n",
              "      <th></th>\n",
              "    </tr>\n",
              "  </thead>\n",
              "  <tbody>\n",
              "    <tr>\n",
              "      <th>99a4788cb24856965c36a24e339b6058</th>\n",
              "      <td>1547</td>\n",
              "    </tr>\n",
              "    <tr>\n",
              "      <th>aca2eb7d00ea1a7b8ebd4e68314663af</th>\n",
              "      <td>1449</td>\n",
              "    </tr>\n",
              "    <tr>\n",
              "      <th>d1c427060a0f73f6b889a5c7c61f2ac4</th>\n",
              "      <td>1248</td>\n",
              "    </tr>\n",
              "    <tr>\n",
              "      <th>53b36df67ebb7c41585e8d54d6772e08</th>\n",
              "      <td>1237</td>\n",
              "    </tr>\n",
              "    <tr>\n",
              "      <th>422879e10f46682990de24d770e7f83d</th>\n",
              "      <td>1065</td>\n",
              "    </tr>\n",
              "    <tr>\n",
              "      <th>154e7e31ebfa092203795c972e5804a6</th>\n",
              "      <td>1053</td>\n",
              "    </tr>\n",
              "    <tr>\n",
              "      <th>3dd2a17168ec895c781a9191c1e95ad7</th>\n",
              "      <td>1036</td>\n",
              "    </tr>\n",
              "    <tr>\n",
              "      <th>2b4609f8948be18874494203496bc318</th>\n",
              "      <td>994</td>\n",
              "    </tr>\n",
              "    <tr>\n",
              "      <th>389d119b48cf3043d311335e499d9c6b</th>\n",
              "      <td>954</td>\n",
              "    </tr>\n",
              "    <tr>\n",
              "      <th>368c6c730842d78016ad823897a372db</th>\n",
              "      <td>906</td>\n",
              "    </tr>\n",
              "  </tbody>\n",
              "</table>\n",
              "</div>"
            ],
            "text/plain": [
              "                                  review_score_sum\n",
              "product_id                                        \n",
              "99a4788cb24856965c36a24e339b6058              1547\n",
              "aca2eb7d00ea1a7b8ebd4e68314663af              1449\n",
              "d1c427060a0f73f6b889a5c7c61f2ac4              1248\n",
              "53b36df67ebb7c41585e8d54d6772e08              1237\n",
              "422879e10f46682990de24d770e7f83d              1065\n",
              "154e7e31ebfa092203795c972e5804a6              1053\n",
              "3dd2a17168ec895c781a9191c1e95ad7              1036\n",
              "2b4609f8948be18874494203496bc318               994\n",
              "389d119b48cf3043d311335e499d9c6b               954\n",
              "368c6c730842d78016ad823897a372db               906"
            ]
          },
          "metadata": {},
          "execution_count": 262
        }
      ]
    },
    {
      "cell_type": "markdown",
      "metadata": {
        "id": "FcqUXeX60dJO"
      },
      "source": [
        "## 6.2 Itens Mais Populares -  Melhor Média de Avaliação\n",
        "\n"
      ]
    },
    {
      "cell_type": "code",
      "metadata": {
        "colab": {
          "base_uri": "https://localhost:8080/",
          "height": 390
        },
        "id": "Y1OFwsKJ0gnY",
        "outputId": "53b28c3d-ae56-41f7-f648-1dfd23f834cc"
      },
      "source": [
        "ratings_explicit = df[df['review_score'] != 0]\n",
        "ratings_sum = pd.DataFrame(ratings_explicit.groupby(['product_id'])['review_score'].mean())\n",
        "top10 = ratings_sum.sort_values('review_score', ascending = False).head(10)\n",
        "top10.rename(columns={'review_score': 'review_score_mean'},inplace=True)\n",
        "top10"
      ],
      "execution_count": 263,
      "outputs": [
        {
          "output_type": "execute_result",
          "data": {
            "text/html": [
              "<div>\n",
              "<style scoped>\n",
              "    .dataframe tbody tr th:only-of-type {\n",
              "        vertical-align: middle;\n",
              "    }\n",
              "\n",
              "    .dataframe tbody tr th {\n",
              "        vertical-align: top;\n",
              "    }\n",
              "\n",
              "    .dataframe thead th {\n",
              "        text-align: right;\n",
              "    }\n",
              "</style>\n",
              "<table border=\"1\" class=\"dataframe\">\n",
              "  <thead>\n",
              "    <tr style=\"text-align: right;\">\n",
              "      <th></th>\n",
              "      <th>review_score_mean</th>\n",
              "    </tr>\n",
              "    <tr>\n",
              "      <th>product_id</th>\n",
              "      <th></th>\n",
              "    </tr>\n",
              "  </thead>\n",
              "  <tbody>\n",
              "    <tr>\n",
              "      <th>00066f42aeeb9f3007548bb9d3f33c38</th>\n",
              "      <td>5.0</td>\n",
              "    </tr>\n",
              "    <tr>\n",
              "      <th>652c030867f364b558eb9f7dcbcf608d</th>\n",
              "      <td>5.0</td>\n",
              "    </tr>\n",
              "    <tr>\n",
              "      <th>cae58f36738671651f3d19fee286f556</th>\n",
              "      <td>5.0</td>\n",
              "    </tr>\n",
              "    <tr>\n",
              "      <th>cae2e38942c8489d9d7a87a3f525c06b</th>\n",
              "      <td>5.0</td>\n",
              "    </tr>\n",
              "    <tr>\n",
              "      <th>64f1126c9715d5394b7301934c6833f0</th>\n",
              "      <td>5.0</td>\n",
              "    </tr>\n",
              "    <tr>\n",
              "      <th>64fbadb8e3f6a0ac76c38ab230d661f9</th>\n",
              "      <td>5.0</td>\n",
              "    </tr>\n",
              "    <tr>\n",
              "      <th>cab49aa7c76189e7e6d55ad8c7f9eb91</th>\n",
              "      <td>5.0</td>\n",
              "    </tr>\n",
              "    <tr>\n",
              "      <th>6510b9320992123556a40f98806e512a</th>\n",
              "      <td>5.0</td>\n",
              "    </tr>\n",
              "    <tr>\n",
              "      <th>65194d9ad03e8206e3a9848f405942f1</th>\n",
              "      <td>5.0</td>\n",
              "    </tr>\n",
              "    <tr>\n",
              "      <th>6520088dce31a24d4fafaf79cfc10baa</th>\n",
              "      <td>5.0</td>\n",
              "    </tr>\n",
              "  </tbody>\n",
              "</table>\n",
              "</div>"
            ],
            "text/plain": [
              "                                  review_score_mean\n",
              "product_id                                         \n",
              "00066f42aeeb9f3007548bb9d3f33c38                5.0\n",
              "652c030867f364b558eb9f7dcbcf608d                5.0\n",
              "cae58f36738671651f3d19fee286f556                5.0\n",
              "cae2e38942c8489d9d7a87a3f525c06b                5.0\n",
              "64f1126c9715d5394b7301934c6833f0                5.0\n",
              "64fbadb8e3f6a0ac76c38ab230d661f9                5.0\n",
              "cab49aa7c76189e7e6d55ad8c7f9eb91                5.0\n",
              "6510b9320992123556a40f98806e512a                5.0\n",
              "65194d9ad03e8206e3a9848f405942f1                5.0\n",
              "6520088dce31a24d4fafaf79cfc10baa                5.0"
            ]
          },
          "metadata": {},
          "execution_count": 263
        }
      ]
    },
    {
      "cell_type": "markdown",
      "metadata": {
        "id": "8eJ-ZCfvwXTw"
      },
      "source": [
        "## 6.3 Itens Mais Populares - Maior Quantidade de Usuários que Avaliaram\n",
        "\n"
      ]
    },
    {
      "cell_type": "code",
      "metadata": {
        "colab": {
          "base_uri": "https://localhost:8080/",
          "height": 390
        },
        "id": "NN0-JiSZwZG0",
        "outputId": "cf2bcec0-a4ad-461a-e13d-35add17bd230"
      },
      "source": [
        "count = df.groupby(by='product_id', as_index=False) \\\n",
        "  .agg({'customer_id': pd.Series.nunique}) \\\n",
        "  .rename(columns={'customer_id': 'customer_id_count'})\n",
        "buy_count = count.set_index('product_id')\n",
        "top10 = buy_count.sort_values('customer_id_count', ascending = False).head(10)\n",
        "top10"
      ],
      "execution_count": 264,
      "outputs": [
        {
          "output_type": "execute_result",
          "data": {
            "text/html": [
              "<div>\n",
              "<style scoped>\n",
              "    .dataframe tbody tr th:only-of-type {\n",
              "        vertical-align: middle;\n",
              "    }\n",
              "\n",
              "    .dataframe tbody tr th {\n",
              "        vertical-align: top;\n",
              "    }\n",
              "\n",
              "    .dataframe thead th {\n",
              "        text-align: right;\n",
              "    }\n",
              "</style>\n",
              "<table border=\"1\" class=\"dataframe\">\n",
              "  <thead>\n",
              "    <tr style=\"text-align: right;\">\n",
              "      <th></th>\n",
              "      <th>customer_id_count</th>\n",
              "    </tr>\n",
              "    <tr>\n",
              "      <th>product_id</th>\n",
              "      <th></th>\n",
              "    </tr>\n",
              "  </thead>\n",
              "  <tbody>\n",
              "    <tr>\n",
              "      <th>99a4788cb24856965c36a24e339b6058</th>\n",
              "      <td>388</td>\n",
              "    </tr>\n",
              "    <tr>\n",
              "      <th>aca2eb7d00ea1a7b8ebd4e68314663af</th>\n",
              "      <td>345</td>\n",
              "    </tr>\n",
              "    <tr>\n",
              "      <th>d1c427060a0f73f6b889a5c7c61f2ac4</th>\n",
              "      <td>288</td>\n",
              "    </tr>\n",
              "    <tr>\n",
              "      <th>53b36df67ebb7c41585e8d54d6772e08</th>\n",
              "      <td>287</td>\n",
              "    </tr>\n",
              "    <tr>\n",
              "      <th>422879e10f46682990de24d770e7f83d</th>\n",
              "      <td>248</td>\n",
              "    </tr>\n",
              "    <tr>\n",
              "      <th>2b4609f8948be18874494203496bc318</th>\n",
              "      <td>246</td>\n",
              "    </tr>\n",
              "    <tr>\n",
              "      <th>154e7e31ebfa092203795c972e5804a6</th>\n",
              "      <td>243</td>\n",
              "    </tr>\n",
              "    <tr>\n",
              "      <th>3dd2a17168ec895c781a9191c1e95ad7</th>\n",
              "      <td>238</td>\n",
              "    </tr>\n",
              "    <tr>\n",
              "      <th>389d119b48cf3043d311335e499d9c6b</th>\n",
              "      <td>225</td>\n",
              "    </tr>\n",
              "    <tr>\n",
              "      <th>368c6c730842d78016ad823897a372db</th>\n",
              "      <td>205</td>\n",
              "    </tr>\n",
              "  </tbody>\n",
              "</table>\n",
              "</div>"
            ],
            "text/plain": [
              "                                  customer_id_count\n",
              "product_id                                         \n",
              "99a4788cb24856965c36a24e339b6058                388\n",
              "aca2eb7d00ea1a7b8ebd4e68314663af                345\n",
              "d1c427060a0f73f6b889a5c7c61f2ac4                288\n",
              "53b36df67ebb7c41585e8d54d6772e08                287\n",
              "422879e10f46682990de24d770e7f83d                248\n",
              "2b4609f8948be18874494203496bc318                246\n",
              "154e7e31ebfa092203795c972e5804a6                243\n",
              "3dd2a17168ec895c781a9191c1e95ad7                238\n",
              "389d119b48cf3043d311335e499d9c6b                225\n",
              "368c6c730842d78016ad823897a372db                205"
            ]
          },
          "metadata": {},
          "execution_count": 264
        }
      ]
    },
    {
      "cell_type": "markdown",
      "metadata": {
        "id": "OV3qr8CJqgxx"
      },
      "source": [
        "## 6.4 Matriz de Recomendação"
      ]
    },
    {
      "cell_type": "code",
      "metadata": {
        "id": "n4gjNwP0Ld4L"
      },
      "source": [
        "def start_pipeline(dataf):\n",
        "    return dataf.copy()\n",
        "\n",
        "def get_product_counts(dataf):\n",
        "  return dataf.groupby(by='product_id', as_index=False) \\\n",
        "    .agg({'customer_id': pd.Series.nunique}) \\\n",
        "    .rename(columns={'customer_id': 'customer_id_count'}) \\\n",
        "    .set_index('product_id') \\\n",
        "    .sort_values('customer_id_count', ascending = False)\n",
        "\n",
        "def get_avg_ratings(dataf):\n",
        "  return dataf.groupby(by='product_id', as_index=False) \\\n",
        "    .agg({'review_score': np.mean}) \\\n",
        "    .rename(columns={'review_score': 'review_score_avg'}) \\\n",
        "    .set_index('product_id') \\\n",
        "    .sort_values('review_score_avg', ascending = False)\n",
        "\n",
        "def get_n_top_values(dataf, n):\n",
        "  return dataf.head(n) \\\n",
        "    .index \\\n",
        "    .tolist()"
      ],
      "execution_count": 265,
      "outputs": []
    },
    {
      "cell_type": "code",
      "metadata": {
        "id": "4VITr9UDNVUl"
      },
      "source": [
        "def recomendar1(id_produto):\n",
        "  print(f\"Produto de interesse: {id_produto}\")\n",
        "  try:\n",
        "    produto_idx = matriz_de_relacionamento_top_product_ratings.index.tolist().index(id_produto)\n",
        "    closest_10_products = np.argsort(-cos_products[produto_idx])[1:11]\n",
        "    print(f\"Retornando 10 Produtos mais próximos de: {id_produto}.\")\n",
        "    return matriz_de_relacionamento_top_product_ratings.index[closest_10_products].tolist()\n",
        "  except ValueError as e:\n",
        "    print(f\"{id_produto}, não está incluso na matriz de recomendação. Retornando os 10 mais avaliados\")\n",
        "    return top_products_sellers"
      ],
      "execution_count": 266,
      "outputs": []
    },
    {
      "cell_type": "code",
      "metadata": {
        "colab": {
          "base_uri": "https://localhost:8080/"
        },
        "id": "dbIoM26KMZ1q",
        "outputId": "d869fffc-645d-4d32-95a6-8595ff00df46"
      },
      "source": [
        "top_product_ratings = df \\\n",
        "  .pipe(start_pipeline) \\\n",
        "  .pipe(get_avg_ratings) \\\n",
        "  .pipe(get_n_top_values, n=1500)\n",
        "\n",
        "top_products_sellers = df \\\n",
        "  .pipe(start_pipeline) \\\n",
        "  .pipe(get_product_counts) \\\n",
        "  .pipe(get_n_top_values, n=10)\n",
        "\n",
        "top_product_ratings[:10], top_products_sellers"
      ],
      "execution_count": 267,
      "outputs": [
        {
          "output_type": "execute_result",
          "data": {
            "text/plain": [
              "(['00066f42aeeb9f3007548bb9d3f33c38',\n",
              "  '652c030867f364b558eb9f7dcbcf608d',\n",
              "  'cae58f36738671651f3d19fee286f556',\n",
              "  'cae2e38942c8489d9d7a87a3f525c06b',\n",
              "  '64f1126c9715d5394b7301934c6833f0',\n",
              "  '64fbadb8e3f6a0ac76c38ab230d661f9',\n",
              "  'cab49aa7c76189e7e6d55ad8c7f9eb91',\n",
              "  '6510b9320992123556a40f98806e512a',\n",
              "  '65194d9ad03e8206e3a9848f405942f1',\n",
              "  '6520088dce31a24d4fafaf79cfc10baa'],\n",
              " ['99a4788cb24856965c36a24e339b6058',\n",
              "  'aca2eb7d00ea1a7b8ebd4e68314663af',\n",
              "  'd1c427060a0f73f6b889a5c7c61f2ac4',\n",
              "  '53b36df67ebb7c41585e8d54d6772e08',\n",
              "  '422879e10f46682990de24d770e7f83d',\n",
              "  '2b4609f8948be18874494203496bc318',\n",
              "  '154e7e31ebfa092203795c972e5804a6',\n",
              "  '3dd2a17168ec895c781a9191c1e95ad7',\n",
              "  '389d119b48cf3043d311335e499d9c6b',\n",
              "  '368c6c730842d78016ad823897a372db'])"
            ]
          },
          "metadata": {},
          "execution_count": 267
        }
      ]
    },
    {
      "cell_type": "code",
      "metadata": {
        "colab": {
          "base_uri": "https://localhost:8080/"
        },
        "id": "_8qPWmc9NQdy",
        "outputId": "2a1fcb1d-5954-4459-c23f-cd59859a04b6"
      },
      "source": [
        "matriz_de_relacionamento_top_product_ratings = df[df[\"product_id\"].isin(top_product_ratings)] \\\n",
        "  .pivot_table(index=\"product_id\", columns=\"customer_id\", values=\"review_score\").fillna(0)\n",
        "\n",
        "matriz_de_relacionamento_top_product_ratings.shape"
      ],
      "execution_count": 268,
      "outputs": [
        {
          "output_type": "execute_result",
          "data": {
            "text/plain": [
              "(1500, 1980)"
            ]
          },
          "metadata": {},
          "execution_count": 268
        }
      ]
    },
    {
      "cell_type": "markdown",
      "metadata": {
        "id": "AchD7uziO4Ji"
      },
      "source": [
        "### 6.4.1 Com Similaridade de Cossenos"
      ]
    },
    {
      "cell_type": "code",
      "metadata": {
        "colab": {
          "base_uri": "https://localhost:8080/"
        },
        "id": "6Cnjw0NwNQ7I",
        "outputId": "6c389673-0f5a-4084-9f00-eedfbc9ddbb3"
      },
      "source": [
        "cos_products = cosine_similarity(matriz_de_relacionamento_top_product_ratings)\n",
        "print(cos_products)\n",
        "cos_products.shape"
      ],
      "execution_count": 269,
      "outputs": [
        {
          "output_type": "stream",
          "name": "stdout",
          "text": [
            "[[1. 0. 0. ... 0. 0. 0.]\n",
            " [0. 1. 0. ... 0. 0. 0.]\n",
            " [0. 0. 1. ... 0. 0. 0.]\n",
            " ...\n",
            " [0. 0. 0. ... 1. 0. 0.]\n",
            " [0. 0. 0. ... 0. 1. 0.]\n",
            " [0. 0. 0. ... 0. 0. 1.]]\n"
          ]
        },
        {
          "output_type": "execute_result",
          "data": {
            "text/plain": [
              "(1500, 1500)"
            ]
          },
          "metadata": {},
          "execution_count": 269
        }
      ]
    },
    {
      "cell_type": "code",
      "metadata": {
        "colab": {
          "base_uri": "https://localhost:8080/"
        },
        "id": "fzy0KbqWNYJ5",
        "outputId": "f622bc40-7fd3-47e2-d1bd-095c7eab4dd2"
      },
      "source": [
        "id_livro_interesse = \"00066f42aeeb9f3007548bb9d3f33c38\"\n",
        "ids_10_mais_proximos = recomendar1(id_livro_interesse)\n",
        "ids_10_mais_proximos"
      ],
      "execution_count": 270,
      "outputs": [
        {
          "output_type": "stream",
          "name": "stdout",
          "text": [
            "Produto de interesse: 00066f42aeeb9f3007548bb9d3f33c38\n",
            "Retornando 10 Produtos mais próximos de: 00066f42aeeb9f3007548bb9d3f33c38.\n"
          ]
        },
        {
          "output_type": "execute_result",
          "data": {
            "text/plain": [
              "['c2c6d6cfda3171733ed7af121e46f6a9',\n",
              " 'c2c503e76e239d461b3e92222f6b49c5',\n",
              " 'c2c4115f38ec8f43e1052cf0735e289b',\n",
              " 'c2bcdb759a32342591497db4153af052',\n",
              " '753531d6b13f62a1aae9baefa606a470',\n",
              " '75285f54a9546fb99e970a15b52e15b6',\n",
              " '7515ab3fc02c8f43b07e9451497fb13e',\n",
              " '750d224957fab8388b6b2c7432c00e35',\n",
              " '750a49a83f6ad13ccdf4a761309483f2',\n",
              " '7500a93e5485588cedc511badf55e56e']"
            ]
          },
          "metadata": {},
          "execution_count": 270
        }
      ]
    },
    {
      "cell_type": "code",
      "metadata": {
        "colab": {
          "base_uri": "https://localhost:8080/"
        },
        "id": "St70fVZ_NaIu",
        "outputId": "658b0f02-5067-41a0-bcea-46231776494e"
      },
      "source": [
        "id_produto_novo = \"id_novo\"\n",
        "ids_10_mais_vendidos = recomendar1(id_produto_novo)\n",
        "ids_10_mais_vendidos"
      ],
      "execution_count": 271,
      "outputs": [
        {
          "output_type": "stream",
          "name": "stdout",
          "text": [
            "Produto de interesse: id_novo\n",
            "id_novo, não está incluso na matriz de recomendação. Retornando os 10 mais avaliados\n"
          ]
        },
        {
          "output_type": "execute_result",
          "data": {
            "text/plain": [
              "['99a4788cb24856965c36a24e339b6058',\n",
              " 'aca2eb7d00ea1a7b8ebd4e68314663af',\n",
              " 'd1c427060a0f73f6b889a5c7c61f2ac4',\n",
              " '53b36df67ebb7c41585e8d54d6772e08',\n",
              " '422879e10f46682990de24d770e7f83d',\n",
              " '2b4609f8948be18874494203496bc318',\n",
              " '154e7e31ebfa092203795c972e5804a6',\n",
              " '3dd2a17168ec895c781a9191c1e95ad7',\n",
              " '389d119b48cf3043d311335e499d9c6b',\n",
              " '368c6c730842d78016ad823897a372db']"
            ]
          },
          "metadata": {},
          "execution_count": 271
        }
      ]
    },
    {
      "cell_type": "markdown",
      "metadata": {
        "id": "Qc9dphSmO73u"
      },
      "source": [
        "### 6.4.2 Com Correlação de Pearson"
      ]
    },
    {
      "cell_type": "code",
      "metadata": {
        "colab": {
          "base_uri": "https://localhost:8080/"
        },
        "id": "f6duIqe2MpIv",
        "outputId": "a7450a0f-f6af-4bd9-b5eb-a2f2ce43f4b9"
      },
      "source": [
        "cos_products = np.corrcoef(matriz_de_relacionamento_top_product_ratings)\n",
        "print(cos_products)\n",
        "cos_products.shape"
      ],
      "execution_count": 272,
      "outputs": [
        {
          "output_type": "stream",
          "name": "stdout",
          "text": [
            "[[ 1.00000000e+00 -8.75657750e-04 -5.05305710e-04 ... -8.75657750e-04\n",
            "  -5.05305710e-04 -5.05305710e-04]\n",
            " [-8.75657750e-04  1.00000000e+00 -8.75657750e-04 ... -1.51745068e-03\n",
            "  -8.75657750e-04 -8.75657750e-04]\n",
            " [-5.05305710e-04 -8.75657750e-04  1.00000000e+00 ... -8.75657750e-04\n",
            "  -5.05305710e-04 -5.05305710e-04]\n",
            " ...\n",
            " [-8.75657750e-04 -1.51745068e-03 -8.75657750e-04 ...  1.00000000e+00\n",
            "  -8.75657750e-04 -8.75657750e-04]\n",
            " [-5.05305710e-04 -8.75657750e-04 -5.05305710e-04 ... -8.75657750e-04\n",
            "   1.00000000e+00 -5.05305710e-04]\n",
            " [-5.05305710e-04 -8.75657750e-04 -5.05305710e-04 ... -8.75657750e-04\n",
            "  -5.05305710e-04  1.00000000e+00]]\n"
          ]
        },
        {
          "output_type": "execute_result",
          "data": {
            "text/plain": [
              "(1500, 1500)"
            ]
          },
          "metadata": {},
          "execution_count": 272
        }
      ]
    },
    {
      "cell_type": "code",
      "metadata": {
        "colab": {
          "base_uri": "https://localhost:8080/"
        },
        "id": "cvNerHjROvUE",
        "outputId": "16e33b25-ca70-40d9-ccac-5067abcbeb26"
      },
      "source": [
        "id_livro_interesse = \"00066f42aeeb9f3007548bb9d3f33c38\"\n",
        "ids_10_mais_proximos = recomendar1(id_livro_interesse)\n",
        "ids_10_mais_proximos"
      ],
      "execution_count": 273,
      "outputs": [
        {
          "output_type": "stream",
          "name": "stdout",
          "text": [
            "Produto de interesse: 00066f42aeeb9f3007548bb9d3f33c38\n",
            "Retornando 10 Produtos mais próximos de: 00066f42aeeb9f3007548bb9d3f33c38.\n"
          ]
        },
        {
          "output_type": "execute_result",
          "data": {
            "text/plain": [
              "['701e076c7aea72b5f668183dde0afa9a',\n",
              " '64473a39b66923a81252bb7150b63663',\n",
              " '64693ed5472651f9ea64d52a689d9ea0',\n",
              " '646c629c40a590e38c21f33ef1aca36f',\n",
              " 'c9341fe3a3cf071d813a92b6b012efde',\n",
              " 'c93b1a2e204567ed8b8b59a99456f8c4',\n",
              " '680874c570dad71c0a2844cfbf417054',\n",
              " '5e14c2beea650eac6b94bc9d446cd71a',\n",
              " 'cd8c7501d1e3a66f282dfed8dbd5ab9f',\n",
              " '746d236f81b4ae9d259030ace2833590']"
            ]
          },
          "metadata": {},
          "execution_count": 273
        }
      ]
    },
    {
      "cell_type": "code",
      "metadata": {
        "colab": {
          "base_uri": "https://localhost:8080/"
        },
        "id": "te4x-ez6OwB6",
        "outputId": "521d7b17-4fba-4955-9175-fa4d6d93f3eb"
      },
      "source": [
        "id_produto_novo = \"id_novo\"\n",
        "ids_10_mais_vendidos = recomendar1(id_produto_novo)\n",
        "ids_10_mais_vendidos"
      ],
      "execution_count": 274,
      "outputs": [
        {
          "output_type": "stream",
          "name": "stdout",
          "text": [
            "Produto de interesse: id_novo\n",
            "id_novo, não está incluso na matriz de recomendação. Retornando os 10 mais avaliados\n"
          ]
        },
        {
          "output_type": "execute_result",
          "data": {
            "text/plain": [
              "['99a4788cb24856965c36a24e339b6058',\n",
              " 'aca2eb7d00ea1a7b8ebd4e68314663af',\n",
              " 'd1c427060a0f73f6b889a5c7c61f2ac4',\n",
              " '53b36df67ebb7c41585e8d54d6772e08',\n",
              " '422879e10f46682990de24d770e7f83d',\n",
              " '2b4609f8948be18874494203496bc318',\n",
              " '154e7e31ebfa092203795c972e5804a6',\n",
              " '3dd2a17168ec895c781a9191c1e95ad7',\n",
              " '389d119b48cf3043d311335e499d9c6b',\n",
              " '368c6c730842d78016ad823897a372db']"
            ]
          },
          "metadata": {},
          "execution_count": 274
        }
      ]
    }
  ]
}