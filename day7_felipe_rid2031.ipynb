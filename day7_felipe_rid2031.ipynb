{
  "nbformat": 4,
  "nbformat_minor": 0,
  "metadata": {
    "colab": {
      "name": "day7_felipe_rid2031.ipynb",
      "provenance": [],
      "collapsed_sections": []
    },
    "kernelspec": {
      "name": "python3",
      "display_name": "Python 3"
    },
    "language_info": {
      "name": "python"
    }
  },
  "cells": [
    {
      "cell_type": "markdown",
      "metadata": {
        "id": "DH1IrJETJ_Cx"
      },
      "source": [
        "# 1.Contexto do Problema"
      ]
    },
    {
      "cell_type": "markdown",
      "metadata": {
        "id": "MWGxBxyIKCZ3"
      },
      "source": [
        "Durante a pandemia os números de vendas da Razzle Dazzle (e-commerce de variedades) dispararam, bem como o da concorrência. Uma das maneiras de se destacar nesse mercado cada vez mais competitivo é oferecer o produto certo para a pessoa certa.\n",
        "\n",
        "Então, você foi contratado desenvolver pelo menos um modelo de recomendação, que será disponibilizado no novo site da empresa. Além do modelo, é necessário informar qual o melhor momento para usá-lo, em propagandas, quando o cliente estiver fazendo uma pesquisa ou quando o cliente estiver vendo um produto. É fundamental que isso seja pensado no desenvolvimento do modelo."
      ]
    },
    {
      "cell_type": "markdown",
      "metadata": {
        "id": "RIpfh_kiqEtT"
      },
      "source": [
        "# 2. Pacotes Python"
      ]
    },
    {
      "cell_type": "code",
      "metadata": {
        "id": "Igym9ZkqVnm8"
      },
      "source": [
        "import pandas  as pd\n",
        "import numpy   as np\n",
        "import seaborn as sns\n",
        "from google.colab import drive\n",
        "from sklearn.metrics.pairwise import cosine_similarity\n",
        "import random"
      ],
      "execution_count": 115,
      "outputs": []
    },
    {
      "cell_type": "code",
      "metadata": {
        "id": "od864Re9fWSj"
      },
      "source": [
        "!pip freeze > /content/gdrive/MyDrive/Colab Notebooks/Day7/requirements.txt"
      ],
      "execution_count": 116,
      "outputs": []
    },
    {
      "cell_type": "code",
      "metadata": {
        "colab": {
          "base_uri": "https://localhost:8080/"
        },
        "id": "g_xC96poVt8B",
        "outputId": "aae446c1-0766-4e41-bd5e-cb55ffe709e5"
      },
      "source": [
        "drive.mount('/content/gdrive', force_remount=True)"
      ],
      "execution_count": 117,
      "outputs": [
        {
          "output_type": "stream",
          "name": "stdout",
          "text": [
            "Mounted at /content/gdrive\n"
          ]
        }
      ]
    },
    {
      "cell_type": "markdown",
      "metadata": {
        "id": "TAs6b6EyqNjD"
      },
      "source": [
        "# 3. Leitura Data Sets"
      ]
    },
    {
      "cell_type": "code",
      "metadata": {
        "id": "EvbJVAJFVvhJ"
      },
      "source": [
        "link1 = '/content/gdrive/MyDrive/Colab Notebooks/Day7/DNC_order_items_dataset.csv'\n",
        "df1 = pd.read_csv(link1,index_col='Unnamed: 0')"
      ],
      "execution_count": 118,
      "outputs": []
    },
    {
      "cell_type": "code",
      "metadata": {
        "colab": {
          "base_uri": "https://localhost:8080/",
          "height": 204
        },
        "id": "gfEEdnytXCPh",
        "outputId": "9c40fd8c-d150-45cc-d3d3-400b0c896e2a"
      },
      "source": [
        "df1.head()"
      ],
      "execution_count": 119,
      "outputs": [
        {
          "output_type": "execute_result",
          "data": {
            "text/html": [
              "<div>\n",
              "<style scoped>\n",
              "    .dataframe tbody tr th:only-of-type {\n",
              "        vertical-align: middle;\n",
              "    }\n",
              "\n",
              "    .dataframe tbody tr th {\n",
              "        vertical-align: top;\n",
              "    }\n",
              "\n",
              "    .dataframe thead th {\n",
              "        text-align: right;\n",
              "    }\n",
              "</style>\n",
              "<table border=\"1\" class=\"dataframe\">\n",
              "  <thead>\n",
              "    <tr style=\"text-align: right;\">\n",
              "      <th></th>\n",
              "      <th>order_id</th>\n",
              "      <th>order_item_id</th>\n",
              "      <th>product_id</th>\n",
              "      <th>price</th>\n",
              "    </tr>\n",
              "  </thead>\n",
              "  <tbody>\n",
              "    <tr>\n",
              "      <th>0</th>\n",
              "      <td>00010242fe8c5a6d1ba2dd792cb16214</td>\n",
              "      <td>1</td>\n",
              "      <td>4244733e06e7ecb4970a6e2683c13e61</td>\n",
              "      <td>58.90</td>\n",
              "    </tr>\n",
              "    <tr>\n",
              "      <th>1</th>\n",
              "      <td>00018f77f2f0320c557190d7a144bdd3</td>\n",
              "      <td>1</td>\n",
              "      <td>e5f2d52b802189ee658865ca93d83a8f</td>\n",
              "      <td>239.90</td>\n",
              "    </tr>\n",
              "    <tr>\n",
              "      <th>2</th>\n",
              "      <td>000229ec398224ef6ca0657da4fc703e</td>\n",
              "      <td>1</td>\n",
              "      <td>c777355d18b72b67abbeef9df44fd0fd</td>\n",
              "      <td>199.00</td>\n",
              "    </tr>\n",
              "    <tr>\n",
              "      <th>3</th>\n",
              "      <td>00024acbcdf0a6daa1e931b038114c75</td>\n",
              "      <td>1</td>\n",
              "      <td>7634da152a4610f1595efa32f14722fc</td>\n",
              "      <td>12.99</td>\n",
              "    </tr>\n",
              "    <tr>\n",
              "      <th>4</th>\n",
              "      <td>00042b26cf59d7ce69dfabb4e55b4fd9</td>\n",
              "      <td>1</td>\n",
              "      <td>ac6c3623068f30de03045865e4e10089</td>\n",
              "      <td>199.90</td>\n",
              "    </tr>\n",
              "  </tbody>\n",
              "</table>\n",
              "</div>"
            ],
            "text/plain": [
              "                           order_id  ...   price\n",
              "0  00010242fe8c5a6d1ba2dd792cb16214  ...   58.90\n",
              "1  00018f77f2f0320c557190d7a144bdd3  ...  239.90\n",
              "2  000229ec398224ef6ca0657da4fc703e  ...  199.00\n",
              "3  00024acbcdf0a6daa1e931b038114c75  ...   12.99\n",
              "4  00042b26cf59d7ce69dfabb4e55b4fd9  ...  199.90\n",
              "\n",
              "[5 rows x 4 columns]"
            ]
          },
          "metadata": {},
          "execution_count": 119
        }
      ]
    },
    {
      "cell_type": "code",
      "metadata": {
        "id": "Mz2g9do4WgAf"
      },
      "source": [
        "link2 = '/content/gdrive/MyDrive/Colab Notebooks/Day7/DNC_order_reviews_dataset.csv'\n",
        "df2 = pd.read_csv(link2,index_col='Unnamed: 0')"
      ],
      "execution_count": 120,
      "outputs": []
    },
    {
      "cell_type": "code",
      "metadata": {
        "colab": {
          "base_uri": "https://localhost:8080/",
          "height": 204
        },
        "id": "FoDfrmEQsK1F",
        "outputId": "23ad1860-2151-46de-933d-6cdd2323822b"
      },
      "source": [
        "df2.head()"
      ],
      "execution_count": 121,
      "outputs": [
        {
          "output_type": "execute_result",
          "data": {
            "text/html": [
              "<div>\n",
              "<style scoped>\n",
              "    .dataframe tbody tr th:only-of-type {\n",
              "        vertical-align: middle;\n",
              "    }\n",
              "\n",
              "    .dataframe tbody tr th {\n",
              "        vertical-align: top;\n",
              "    }\n",
              "\n",
              "    .dataframe thead th {\n",
              "        text-align: right;\n",
              "    }\n",
              "</style>\n",
              "<table border=\"1\" class=\"dataframe\">\n",
              "  <thead>\n",
              "    <tr style=\"text-align: right;\">\n",
              "      <th></th>\n",
              "      <th>review_id</th>\n",
              "      <th>order_id</th>\n",
              "      <th>review_score</th>\n",
              "    </tr>\n",
              "  </thead>\n",
              "  <tbody>\n",
              "    <tr>\n",
              "      <th>0</th>\n",
              "      <td>7bc2406110b926393aa56f80a40eba40</td>\n",
              "      <td>73fc7af87114b39712e6da79b0a377eb</td>\n",
              "      <td>4</td>\n",
              "    </tr>\n",
              "    <tr>\n",
              "      <th>1</th>\n",
              "      <td>80e641a11e56f04c1ad469d5645fdfde</td>\n",
              "      <td>a548910a1c6147796b98fdf73dbeba33</td>\n",
              "      <td>5</td>\n",
              "    </tr>\n",
              "    <tr>\n",
              "      <th>2</th>\n",
              "      <td>228ce5500dc1d8e020d8d1322874b6f0</td>\n",
              "      <td>f9e4b658b201a9f2ecdecbb34bed034b</td>\n",
              "      <td>5</td>\n",
              "    </tr>\n",
              "    <tr>\n",
              "      <th>3</th>\n",
              "      <td>e64fb393e7b32834bb789ff8bb30750e</td>\n",
              "      <td>658677c97b385a9be170737859d3511b</td>\n",
              "      <td>5</td>\n",
              "    </tr>\n",
              "    <tr>\n",
              "      <th>4</th>\n",
              "      <td>f7c4243c7fe1938f181bec41a392bdeb</td>\n",
              "      <td>8e6bfb81e283fa7e4f11123a3fb894f1</td>\n",
              "      <td>5</td>\n",
              "    </tr>\n",
              "  </tbody>\n",
              "</table>\n",
              "</div>"
            ],
            "text/plain": [
              "                          review_id  ... review_score\n",
              "0  7bc2406110b926393aa56f80a40eba40  ...            4\n",
              "1  80e641a11e56f04c1ad469d5645fdfde  ...            5\n",
              "2  228ce5500dc1d8e020d8d1322874b6f0  ...            5\n",
              "3  e64fb393e7b32834bb789ff8bb30750e  ...            5\n",
              "4  f7c4243c7fe1938f181bec41a392bdeb  ...            5\n",
              "\n",
              "[5 rows x 3 columns]"
            ]
          },
          "metadata": {},
          "execution_count": 121
        }
      ]
    },
    {
      "cell_type": "code",
      "metadata": {
        "id": "uUkC2yEBWgd1"
      },
      "source": [
        "link3 = '/content/gdrive/MyDrive/Colab Notebooks/Day7/DNC_orders_dataset.csv'\n",
        "df3 = pd.read_csv(link3,index_col='Unnamed: 0')"
      ],
      "execution_count": 122,
      "outputs": []
    },
    {
      "cell_type": "code",
      "metadata": {
        "id": "bhy-22rEezFY",
        "colab": {
          "base_uri": "https://localhost:8080/",
          "height": 204
        },
        "outputId": "21b43bdc-04e3-4b29-8c09-c85c9c6673ef"
      },
      "source": [
        "df3.head()"
      ],
      "execution_count": 123,
      "outputs": [
        {
          "output_type": "execute_result",
          "data": {
            "text/html": [
              "<div>\n",
              "<style scoped>\n",
              "    .dataframe tbody tr th:only-of-type {\n",
              "        vertical-align: middle;\n",
              "    }\n",
              "\n",
              "    .dataframe tbody tr th {\n",
              "        vertical-align: top;\n",
              "    }\n",
              "\n",
              "    .dataframe thead th {\n",
              "        text-align: right;\n",
              "    }\n",
              "</style>\n",
              "<table border=\"1\" class=\"dataframe\">\n",
              "  <thead>\n",
              "    <tr style=\"text-align: right;\">\n",
              "      <th></th>\n",
              "      <th>order_id</th>\n",
              "      <th>customer_id</th>\n",
              "      <th>order_status</th>\n",
              "    </tr>\n",
              "  </thead>\n",
              "  <tbody>\n",
              "    <tr>\n",
              "      <th>0</th>\n",
              "      <td>e481f51cbdc54678b7cc49136f2d6af7</td>\n",
              "      <td>9ef432eb6251297304e76186b10a928d</td>\n",
              "      <td>delivered</td>\n",
              "    </tr>\n",
              "    <tr>\n",
              "      <th>1</th>\n",
              "      <td>53cdb2fc8bc7dce0b6741e2150273451</td>\n",
              "      <td>b0830fb4747a6c6d20dea0b8c802d7ef</td>\n",
              "      <td>delivered</td>\n",
              "    </tr>\n",
              "    <tr>\n",
              "      <th>2</th>\n",
              "      <td>47770eb9100c2d0c44946d9cf07ec65d</td>\n",
              "      <td>41ce2a54c0b03bf3443c3d931a367089</td>\n",
              "      <td>delivered</td>\n",
              "    </tr>\n",
              "    <tr>\n",
              "      <th>3</th>\n",
              "      <td>949d5b44dbf5de918fe9c16f97b45f8a</td>\n",
              "      <td>f88197465ea7920adcdbec7375364d82</td>\n",
              "      <td>delivered</td>\n",
              "    </tr>\n",
              "    <tr>\n",
              "      <th>4</th>\n",
              "      <td>ad21c59c0840e6cb83a9ceb5573f8159</td>\n",
              "      <td>8ab97904e6daea8866dbdbc4fb7aad2c</td>\n",
              "      <td>delivered</td>\n",
              "    </tr>\n",
              "  </tbody>\n",
              "</table>\n",
              "</div>"
            ],
            "text/plain": [
              "                           order_id  ... order_status\n",
              "0  e481f51cbdc54678b7cc49136f2d6af7  ...    delivered\n",
              "1  53cdb2fc8bc7dce0b6741e2150273451  ...    delivered\n",
              "2  47770eb9100c2d0c44946d9cf07ec65d  ...    delivered\n",
              "3  949d5b44dbf5de918fe9c16f97b45f8a  ...    delivered\n",
              "4  ad21c59c0840e6cb83a9ceb5573f8159  ...    delivered\n",
              "\n",
              "[5 rows x 3 columns]"
            ]
          },
          "metadata": {},
          "execution_count": 123
        }
      ]
    },
    {
      "cell_type": "code",
      "metadata": {
        "id": "uqjXEH89WiUi"
      },
      "source": [
        "link4 = '/content/gdrive/MyDrive/Colab Notebooks/Day7/DNC_products_dataset.csv'\n",
        "df4 = pd.read_csv(link4,index_col='Unnamed: 0')"
      ],
      "execution_count": 124,
      "outputs": []
    },
    {
      "cell_type": "code",
      "metadata": {
        "colab": {
          "base_uri": "https://localhost:8080/",
          "height": 204
        },
        "id": "g2gnZO7GXBIR",
        "outputId": "ba88743b-1415-43ba-d191-ca463df67f4d"
      },
      "source": [
        "df4.head()"
      ],
      "execution_count": 125,
      "outputs": [
        {
          "output_type": "execute_result",
          "data": {
            "text/html": [
              "<div>\n",
              "<style scoped>\n",
              "    .dataframe tbody tr th:only-of-type {\n",
              "        vertical-align: middle;\n",
              "    }\n",
              "\n",
              "    .dataframe tbody tr th {\n",
              "        vertical-align: top;\n",
              "    }\n",
              "\n",
              "    .dataframe thead th {\n",
              "        text-align: right;\n",
              "    }\n",
              "</style>\n",
              "<table border=\"1\" class=\"dataframe\">\n",
              "  <thead>\n",
              "    <tr style=\"text-align: right;\">\n",
              "      <th></th>\n",
              "      <th>product_id</th>\n",
              "      <th>product_category_name</th>\n",
              "      <th>product_name_lenght</th>\n",
              "      <th>product_description_lenght</th>\n",
              "      <th>product_weight_g</th>\n",
              "      <th>product_length_cm</th>\n",
              "      <th>product_height_cm</th>\n",
              "      <th>product_width_cm</th>\n",
              "    </tr>\n",
              "  </thead>\n",
              "  <tbody>\n",
              "    <tr>\n",
              "      <th>0</th>\n",
              "      <td>1e9e8ef04dbcff4541ed26657ea517e5</td>\n",
              "      <td>perfumaria</td>\n",
              "      <td>40.0</td>\n",
              "      <td>287.0</td>\n",
              "      <td>225.0</td>\n",
              "      <td>16.0</td>\n",
              "      <td>10.0</td>\n",
              "      <td>14.0</td>\n",
              "    </tr>\n",
              "    <tr>\n",
              "      <th>1</th>\n",
              "      <td>3aa071139cb16b67ca9e5dea641aaa2f</td>\n",
              "      <td>artes</td>\n",
              "      <td>44.0</td>\n",
              "      <td>276.0</td>\n",
              "      <td>1000.0</td>\n",
              "      <td>30.0</td>\n",
              "      <td>18.0</td>\n",
              "      <td>20.0</td>\n",
              "    </tr>\n",
              "    <tr>\n",
              "      <th>2</th>\n",
              "      <td>96bd76ec8810374ed1b65e291975717f</td>\n",
              "      <td>esporte_lazer</td>\n",
              "      <td>46.0</td>\n",
              "      <td>250.0</td>\n",
              "      <td>154.0</td>\n",
              "      <td>18.0</td>\n",
              "      <td>9.0</td>\n",
              "      <td>15.0</td>\n",
              "    </tr>\n",
              "    <tr>\n",
              "      <th>3</th>\n",
              "      <td>cef67bcfe19066a932b7673e239eb23d</td>\n",
              "      <td>bebes</td>\n",
              "      <td>27.0</td>\n",
              "      <td>261.0</td>\n",
              "      <td>371.0</td>\n",
              "      <td>26.0</td>\n",
              "      <td>4.0</td>\n",
              "      <td>26.0</td>\n",
              "    </tr>\n",
              "    <tr>\n",
              "      <th>4</th>\n",
              "      <td>9dc1a7de274444849c219cff195d0b71</td>\n",
              "      <td>utilidades_domesticas</td>\n",
              "      <td>37.0</td>\n",
              "      <td>402.0</td>\n",
              "      <td>625.0</td>\n",
              "      <td>20.0</td>\n",
              "      <td>17.0</td>\n",
              "      <td>13.0</td>\n",
              "    </tr>\n",
              "  </tbody>\n",
              "</table>\n",
              "</div>"
            ],
            "text/plain": [
              "                         product_id  ... product_width_cm\n",
              "0  1e9e8ef04dbcff4541ed26657ea517e5  ...             14.0\n",
              "1  3aa071139cb16b67ca9e5dea641aaa2f  ...             20.0\n",
              "2  96bd76ec8810374ed1b65e291975717f  ...             15.0\n",
              "3  cef67bcfe19066a932b7673e239eb23d  ...             26.0\n",
              "4  9dc1a7de274444849c219cff195d0b71  ...             13.0\n",
              "\n",
              "[5 rows x 8 columns]"
            ]
          },
          "metadata": {},
          "execution_count": 125
        }
      ]
    },
    {
      "cell_type": "markdown",
      "metadata": {
        "id": "0yi80u_LqcUW"
      },
      "source": [
        "# 4. Concatenando Data Sets"
      ]
    },
    {
      "cell_type": "code",
      "metadata": {
        "colab": {
          "base_uri": "https://localhost:8080/",
          "height": 224
        },
        "id": "f66E_D9ZDvwY",
        "outputId": "f24c6865-480a-4cc2-cbbb-2168a5f2d892"
      },
      "source": [
        "df_concat = df1.merge(df2, on=['order_id'], how='inner')\n",
        "df_concat = df_concat.merge(df3, on=['order_id'], how='inner')\n",
        "df_concat = df_concat.merge(df4, on=['product_id'], how='inner')\n",
        "df_concat.head()"
      ],
      "execution_count": 126,
      "outputs": [
        {
          "output_type": "execute_result",
          "data": {
            "text/html": [
              "<div>\n",
              "<style scoped>\n",
              "    .dataframe tbody tr th:only-of-type {\n",
              "        vertical-align: middle;\n",
              "    }\n",
              "\n",
              "    .dataframe tbody tr th {\n",
              "        vertical-align: top;\n",
              "    }\n",
              "\n",
              "    .dataframe thead th {\n",
              "        text-align: right;\n",
              "    }\n",
              "</style>\n",
              "<table border=\"1\" class=\"dataframe\">\n",
              "  <thead>\n",
              "    <tr style=\"text-align: right;\">\n",
              "      <th></th>\n",
              "      <th>order_id</th>\n",
              "      <th>order_item_id</th>\n",
              "      <th>product_id</th>\n",
              "      <th>price</th>\n",
              "      <th>review_id</th>\n",
              "      <th>review_score</th>\n",
              "      <th>customer_id</th>\n",
              "      <th>order_status</th>\n",
              "      <th>product_category_name</th>\n",
              "      <th>product_name_lenght</th>\n",
              "      <th>product_description_lenght</th>\n",
              "      <th>product_weight_g</th>\n",
              "      <th>product_length_cm</th>\n",
              "      <th>product_height_cm</th>\n",
              "      <th>product_width_cm</th>\n",
              "    </tr>\n",
              "  </thead>\n",
              "  <tbody>\n",
              "    <tr>\n",
              "      <th>0</th>\n",
              "      <td>00010242fe8c5a6d1ba2dd792cb16214</td>\n",
              "      <td>1</td>\n",
              "      <td>4244733e06e7ecb4970a6e2683c13e61</td>\n",
              "      <td>58.9</td>\n",
              "      <td>97ca439bc427b48bc1cd7177abe71365</td>\n",
              "      <td>5</td>\n",
              "      <td>3ce436f183e68e07877b285a838db11a</td>\n",
              "      <td>delivered</td>\n",
              "      <td>cool_stuff</td>\n",
              "      <td>58.0</td>\n",
              "      <td>598.0</td>\n",
              "      <td>650.0</td>\n",
              "      <td>28.0</td>\n",
              "      <td>9.0</td>\n",
              "      <td>14.0</td>\n",
              "    </tr>\n",
              "    <tr>\n",
              "      <th>1</th>\n",
              "      <td>130898c0987d1801452a8ed92a670612</td>\n",
              "      <td>1</td>\n",
              "      <td>4244733e06e7ecb4970a6e2683c13e61</td>\n",
              "      <td>55.9</td>\n",
              "      <td>b11cba360bbe71410c291b764753d37f</td>\n",
              "      <td>5</td>\n",
              "      <td>e6eecc5a77de221464d1c4eaff0a9b64</td>\n",
              "      <td>delivered</td>\n",
              "      <td>cool_stuff</td>\n",
              "      <td>58.0</td>\n",
              "      <td>598.0</td>\n",
              "      <td>650.0</td>\n",
              "      <td>28.0</td>\n",
              "      <td>9.0</td>\n",
              "      <td>14.0</td>\n",
              "    </tr>\n",
              "    <tr>\n",
              "      <th>2</th>\n",
              "      <td>532ed5e14e24ae1f0d735b91524b98b9</td>\n",
              "      <td>1</td>\n",
              "      <td>4244733e06e7ecb4970a6e2683c13e61</td>\n",
              "      <td>64.9</td>\n",
              "      <td>af01c4017c5ab46df6cc810e069e654a</td>\n",
              "      <td>4</td>\n",
              "      <td>4ef55bf80f711b372afebcb7c715344a</td>\n",
              "      <td>delivered</td>\n",
              "      <td>cool_stuff</td>\n",
              "      <td>58.0</td>\n",
              "      <td>598.0</td>\n",
              "      <td>650.0</td>\n",
              "      <td>28.0</td>\n",
              "      <td>9.0</td>\n",
              "      <td>14.0</td>\n",
              "    </tr>\n",
              "    <tr>\n",
              "      <th>3</th>\n",
              "      <td>6f8c31653edb8c83e1a739408b5ff750</td>\n",
              "      <td>1</td>\n",
              "      <td>4244733e06e7ecb4970a6e2683c13e61</td>\n",
              "      <td>58.9</td>\n",
              "      <td>8304ff37d8b16b57086fa283fe0c44f8</td>\n",
              "      <td>5</td>\n",
              "      <td>30407a72ad8b3f4df4d15369126b20c9</td>\n",
              "      <td>delivered</td>\n",
              "      <td>cool_stuff</td>\n",
              "      <td>58.0</td>\n",
              "      <td>598.0</td>\n",
              "      <td>650.0</td>\n",
              "      <td>28.0</td>\n",
              "      <td>9.0</td>\n",
              "      <td>14.0</td>\n",
              "    </tr>\n",
              "    <tr>\n",
              "      <th>4</th>\n",
              "      <td>7d19f4ef4d04461989632411b7e588b9</td>\n",
              "      <td>1</td>\n",
              "      <td>4244733e06e7ecb4970a6e2683c13e61</td>\n",
              "      <td>58.9</td>\n",
              "      <td>426f43a82185969503fb3c86241a9535</td>\n",
              "      <td>5</td>\n",
              "      <td>91a792fef70ecd8cc69d3c7feb3d12da</td>\n",
              "      <td>delivered</td>\n",
              "      <td>cool_stuff</td>\n",
              "      <td>58.0</td>\n",
              "      <td>598.0</td>\n",
              "      <td>650.0</td>\n",
              "      <td>28.0</td>\n",
              "      <td>9.0</td>\n",
              "      <td>14.0</td>\n",
              "    </tr>\n",
              "  </tbody>\n",
              "</table>\n",
              "</div>"
            ],
            "text/plain": [
              "                           order_id  ...  product_width_cm\n",
              "0  00010242fe8c5a6d1ba2dd792cb16214  ...              14.0\n",
              "1  130898c0987d1801452a8ed92a670612  ...              14.0\n",
              "2  532ed5e14e24ae1f0d735b91524b98b9  ...              14.0\n",
              "3  6f8c31653edb8c83e1a739408b5ff750  ...              14.0\n",
              "4  7d19f4ef4d04461989632411b7e588b9  ...              14.0\n",
              "\n",
              "[5 rows x 15 columns]"
            ]
          },
          "metadata": {},
          "execution_count": 126
        }
      ]
    },
    {
      "cell_type": "markdown",
      "metadata": {
        "id": "XyNJPSVZqnXh"
      },
      "source": [
        "# 5. Análise e Tratamento do Data Set Concatenado"
      ]
    },
    {
      "cell_type": "code",
      "metadata": {
        "colab": {
          "base_uri": "https://localhost:8080/"
        },
        "id": "HFC7nLv6rYoe",
        "outputId": "c6b760b1-c780-4ec2-f479-730b6f42d603"
      },
      "source": [
        "df_concat.shape"
      ],
      "execution_count": 127,
      "outputs": [
        {
          "output_type": "execute_result",
          "data": {
            "text/plain": [
              "(112372, 15)"
            ]
          },
          "metadata": {},
          "execution_count": 127
        }
      ]
    },
    {
      "cell_type": "code",
      "metadata": {
        "colab": {
          "base_uri": "https://localhost:8080/"
        },
        "id": "x3a1F_fsql8U",
        "outputId": "0ff9bc6e-6b4a-4b9a-b5d0-8a40e1f020aa"
      },
      "source": [
        "df_concat.dtypes"
      ],
      "execution_count": 128,
      "outputs": [
        {
          "output_type": "execute_result",
          "data": {
            "text/plain": [
              "order_id                       object\n",
              "order_item_id                   int64\n",
              "product_id                     object\n",
              "price                         float64\n",
              "review_id                      object\n",
              "review_score                    int64\n",
              "customer_id                    object\n",
              "order_status                   object\n",
              "product_category_name          object\n",
              "product_name_lenght           float64\n",
              "product_description_lenght    float64\n",
              "product_weight_g              float64\n",
              "product_length_cm             float64\n",
              "product_height_cm             float64\n",
              "product_width_cm              float64\n",
              "dtype: object"
            ]
          },
          "metadata": {},
          "execution_count": 128
        }
      ]
    },
    {
      "cell_type": "code",
      "metadata": {
        "id": "Czo6uQqNvS09"
      },
      "source": [
        "df_concat['order_id'] = df_concat['order_id'].astype('string')\n",
        "df_concat['customer_id'] = df_concat['customer_id'].astype('string')\n",
        "df_concat['order_status'] = df_concat['order_status'].astype('string')\n",
        "df_concat['product_category_name'] = df_concat['product_category_name'].astype('string')\n",
        "df_concat['product_id'] = df_concat['product_id'].astype('string')\n",
        "df_concat['review_id'] = df_concat['review_id'].astype('string')"
      ],
      "execution_count": 129,
      "outputs": []
    },
    {
      "cell_type": "code",
      "metadata": {
        "colab": {
          "base_uri": "https://localhost:8080/"
        },
        "id": "3sk4j9_Yvl4R",
        "outputId": "e6cb2435-50d1-4f64-ff84-775835ea8efb"
      },
      "source": [
        "df_concat.dtypes"
      ],
      "execution_count": 130,
      "outputs": [
        {
          "output_type": "execute_result",
          "data": {
            "text/plain": [
              "order_id                       string\n",
              "order_item_id                   int64\n",
              "product_id                     string\n",
              "price                         float64\n",
              "review_id                      string\n",
              "review_score                    int64\n",
              "customer_id                    string\n",
              "order_status                   string\n",
              "product_category_name          string\n",
              "product_name_lenght           float64\n",
              "product_description_lenght    float64\n",
              "product_weight_g              float64\n",
              "product_length_cm             float64\n",
              "product_height_cm             float64\n",
              "product_width_cm              float64\n",
              "dtype: object"
            ]
          },
          "metadata": {},
          "execution_count": 130
        }
      ]
    },
    {
      "cell_type": "code",
      "metadata": {
        "colab": {
          "base_uri": "https://localhost:8080/"
        },
        "id": "g1uJTMH0rP0f",
        "outputId": "f7a9ce8e-83ee-4633-ddcf-a5f7fac41a45"
      },
      "source": [
        "df_concat.isna().sum()"
      ],
      "execution_count": 131,
      "outputs": [
        {
          "output_type": "execute_result",
          "data": {
            "text/plain": [
              "order_id                         0\n",
              "order_item_id                    0\n",
              "product_id                       0\n",
              "price                            0\n",
              "review_id                        0\n",
              "review_score                     0\n",
              "customer_id                      0\n",
              "order_status                     0\n",
              "product_category_name         1598\n",
              "product_name_lenght           1598\n",
              "product_description_lenght    1598\n",
              "product_weight_g                18\n",
              "product_length_cm               18\n",
              "product_height_cm               18\n",
              "product_width_cm                18\n",
              "dtype: int64"
            ]
          },
          "metadata": {},
          "execution_count": 131
        }
      ]
    },
    {
      "cell_type": "code",
      "metadata": {
        "id": "nhcwdat8reHf"
      },
      "source": [
        "df_concat.dropna(how='any',axis=0,inplace=True)"
      ],
      "execution_count": 132,
      "outputs": []
    },
    {
      "cell_type": "code",
      "metadata": {
        "id": "P7YHHutWxTFf"
      },
      "source": [
        "df_concat.drop_duplicates(subset =\"order_id\",keep = False, inplace = True)"
      ],
      "execution_count": 133,
      "outputs": []
    },
    {
      "cell_type": "code",
      "metadata": {
        "id": "O934O0DNy6NV"
      },
      "source": [
        "df = df_concat[['product_id','customer_id','review_score']]"
      ],
      "execution_count": 134,
      "outputs": []
    },
    {
      "cell_type": "code",
      "metadata": {
        "colab": {
          "base_uri": "https://localhost:8080/",
          "height": 297
        },
        "id": "DL2T0BGozd0v",
        "outputId": "45fd477d-c5b4-40b7-dc0a-4acc80e76dfe"
      },
      "source": [
        "df.describe()"
      ],
      "execution_count": 135,
      "outputs": [
        {
          "output_type": "execute_result",
          "data": {
            "text/html": [
              "<div>\n",
              "<style scoped>\n",
              "    .dataframe tbody tr th:only-of-type {\n",
              "        vertical-align: middle;\n",
              "    }\n",
              "\n",
              "    .dataframe tbody tr th {\n",
              "        vertical-align: top;\n",
              "    }\n",
              "\n",
              "    .dataframe thead th {\n",
              "        text-align: right;\n",
              "    }\n",
              "</style>\n",
              "<table border=\"1\" class=\"dataframe\">\n",
              "  <thead>\n",
              "    <tr style=\"text-align: right;\">\n",
              "      <th></th>\n",
              "      <th>review_score</th>\n",
              "    </tr>\n",
              "  </thead>\n",
              "  <tbody>\n",
              "    <tr>\n",
              "      <th>count</th>\n",
              "      <td>86532.000000</td>\n",
              "    </tr>\n",
              "    <tr>\n",
              "      <th>mean</th>\n",
              "      <td>4.162587</td>\n",
              "    </tr>\n",
              "    <tr>\n",
              "      <th>std</th>\n",
              "      <td>1.281801</td>\n",
              "    </tr>\n",
              "    <tr>\n",
              "      <th>min</th>\n",
              "      <td>1.000000</td>\n",
              "    </tr>\n",
              "    <tr>\n",
              "      <th>25%</th>\n",
              "      <td>4.000000</td>\n",
              "    </tr>\n",
              "    <tr>\n",
              "      <th>50%</th>\n",
              "      <td>5.000000</td>\n",
              "    </tr>\n",
              "    <tr>\n",
              "      <th>75%</th>\n",
              "      <td>5.000000</td>\n",
              "    </tr>\n",
              "    <tr>\n",
              "      <th>max</th>\n",
              "      <td>5.000000</td>\n",
              "    </tr>\n",
              "  </tbody>\n",
              "</table>\n",
              "</div>"
            ],
            "text/plain": [
              "       review_score\n",
              "count  86532.000000\n",
              "mean       4.162587\n",
              "std        1.281801\n",
              "min        1.000000\n",
              "25%        4.000000\n",
              "50%        5.000000\n",
              "75%        5.000000\n",
              "max        5.000000"
            ]
          },
          "metadata": {},
          "execution_count": 135
        }
      ]
    },
    {
      "cell_type": "markdown",
      "metadata": {
        "id": "RxnjyYgW_f_x"
      },
      "source": [
        "# 6. Filtros Colaborativos"
      ]
    },
    {
      "cell_type": "markdown",
      "metadata": {
        "id": "sDz1rpdoydSO"
      },
      "source": [
        "## 6.1 Itens Mais Populares -  Somatório de Avaliações\n"
      ]
    },
    {
      "cell_type": "code",
      "metadata": {
        "colab": {
          "base_uri": "https://localhost:8080/",
          "height": 390
        },
        "id": "Ci7b5Cynygv_",
        "outputId": "cd13d8c1-d9e7-479d-d85f-ddbc3483ee48"
      },
      "source": [
        "ratings_explicit = df[df['review_score'] != 0]\n",
        "ratings_sum = pd.DataFrame(ratings_explicit.groupby(['product_id'])['review_score'].sum())\n",
        "top10 = ratings_sum.sort_values('review_score', ascending = False).head(10)\n",
        "top10.rename(columns={'review_score': 'review_score_sum'},inplace=True)\n",
        "top10"
      ],
      "execution_count": 136,
      "outputs": [
        {
          "output_type": "execute_result",
          "data": {
            "text/html": [
              "<div>\n",
              "<style scoped>\n",
              "    .dataframe tbody tr th:only-of-type {\n",
              "        vertical-align: middle;\n",
              "    }\n",
              "\n",
              "    .dataframe tbody tr th {\n",
              "        vertical-align: top;\n",
              "    }\n",
              "\n",
              "    .dataframe thead th {\n",
              "        text-align: right;\n",
              "    }\n",
              "</style>\n",
              "<table border=\"1\" class=\"dataframe\">\n",
              "  <thead>\n",
              "    <tr style=\"text-align: right;\">\n",
              "      <th></th>\n",
              "      <th>review_score_sum</th>\n",
              "    </tr>\n",
              "    <tr>\n",
              "      <th>product_id</th>\n",
              "      <th></th>\n",
              "    </tr>\n",
              "  </thead>\n",
              "  <tbody>\n",
              "    <tr>\n",
              "      <th>99a4788cb24856965c36a24e339b6058</th>\n",
              "      <td>1547</td>\n",
              "    </tr>\n",
              "    <tr>\n",
              "      <th>aca2eb7d00ea1a7b8ebd4e68314663af</th>\n",
              "      <td>1449</td>\n",
              "    </tr>\n",
              "    <tr>\n",
              "      <th>d1c427060a0f73f6b889a5c7c61f2ac4</th>\n",
              "      <td>1248</td>\n",
              "    </tr>\n",
              "    <tr>\n",
              "      <th>53b36df67ebb7c41585e8d54d6772e08</th>\n",
              "      <td>1237</td>\n",
              "    </tr>\n",
              "    <tr>\n",
              "      <th>422879e10f46682990de24d770e7f83d</th>\n",
              "      <td>1065</td>\n",
              "    </tr>\n",
              "    <tr>\n",
              "      <th>154e7e31ebfa092203795c972e5804a6</th>\n",
              "      <td>1053</td>\n",
              "    </tr>\n",
              "    <tr>\n",
              "      <th>3dd2a17168ec895c781a9191c1e95ad7</th>\n",
              "      <td>1036</td>\n",
              "    </tr>\n",
              "    <tr>\n",
              "      <th>2b4609f8948be18874494203496bc318</th>\n",
              "      <td>994</td>\n",
              "    </tr>\n",
              "    <tr>\n",
              "      <th>389d119b48cf3043d311335e499d9c6b</th>\n",
              "      <td>954</td>\n",
              "    </tr>\n",
              "    <tr>\n",
              "      <th>368c6c730842d78016ad823897a372db</th>\n",
              "      <td>906</td>\n",
              "    </tr>\n",
              "  </tbody>\n",
              "</table>\n",
              "</div>"
            ],
            "text/plain": [
              "                                  review_score_sum\n",
              "product_id                                        \n",
              "99a4788cb24856965c36a24e339b6058              1547\n",
              "aca2eb7d00ea1a7b8ebd4e68314663af              1449\n",
              "d1c427060a0f73f6b889a5c7c61f2ac4              1248\n",
              "53b36df67ebb7c41585e8d54d6772e08              1237\n",
              "422879e10f46682990de24d770e7f83d              1065\n",
              "154e7e31ebfa092203795c972e5804a6              1053\n",
              "3dd2a17168ec895c781a9191c1e95ad7              1036\n",
              "2b4609f8948be18874494203496bc318               994\n",
              "389d119b48cf3043d311335e499d9c6b               954\n",
              "368c6c730842d78016ad823897a372db               906"
            ]
          },
          "metadata": {},
          "execution_count": 136
        }
      ]
    },
    {
      "cell_type": "markdown",
      "metadata": {
        "id": "FcqUXeX60dJO"
      },
      "source": [
        "## 6.2 Itens Mais Populares -  Melhor Média de Avaliação\n",
        "\n"
      ]
    },
    {
      "cell_type": "code",
      "metadata": {
        "colab": {
          "base_uri": "https://localhost:8080/",
          "height": 390
        },
        "id": "Y1OFwsKJ0gnY",
        "outputId": "bb829295-a6aa-444b-b4ff-803184ec0e16"
      },
      "source": [
        "ratings_explicit = df[df['review_score'] != 0]\n",
        "ratings_sum = pd.DataFrame(ratings_explicit.groupby(['product_id'])['review_score'].mean())\n",
        "top10 = ratings_sum.sort_values('review_score', ascending = False).head(10)\n",
        "top10.rename(columns={'review_score': 'review_score_mean'},inplace=True)\n",
        "top10"
      ],
      "execution_count": 137,
      "outputs": [
        {
          "output_type": "execute_result",
          "data": {
            "text/html": [
              "<div>\n",
              "<style scoped>\n",
              "    .dataframe tbody tr th:only-of-type {\n",
              "        vertical-align: middle;\n",
              "    }\n",
              "\n",
              "    .dataframe tbody tr th {\n",
              "        vertical-align: top;\n",
              "    }\n",
              "\n",
              "    .dataframe thead th {\n",
              "        text-align: right;\n",
              "    }\n",
              "</style>\n",
              "<table border=\"1\" class=\"dataframe\">\n",
              "  <thead>\n",
              "    <tr style=\"text-align: right;\">\n",
              "      <th></th>\n",
              "      <th>review_score_mean</th>\n",
              "    </tr>\n",
              "    <tr>\n",
              "      <th>product_id</th>\n",
              "      <th></th>\n",
              "    </tr>\n",
              "  </thead>\n",
              "  <tbody>\n",
              "    <tr>\n",
              "      <th>00066f42aeeb9f3007548bb9d3f33c38</th>\n",
              "      <td>5.0</td>\n",
              "    </tr>\n",
              "    <tr>\n",
              "      <th>652c030867f364b558eb9f7dcbcf608d</th>\n",
              "      <td>5.0</td>\n",
              "    </tr>\n",
              "    <tr>\n",
              "      <th>cae58f36738671651f3d19fee286f556</th>\n",
              "      <td>5.0</td>\n",
              "    </tr>\n",
              "    <tr>\n",
              "      <th>cae2e38942c8489d9d7a87a3f525c06b</th>\n",
              "      <td>5.0</td>\n",
              "    </tr>\n",
              "    <tr>\n",
              "      <th>64f1126c9715d5394b7301934c6833f0</th>\n",
              "      <td>5.0</td>\n",
              "    </tr>\n",
              "    <tr>\n",
              "      <th>64fbadb8e3f6a0ac76c38ab230d661f9</th>\n",
              "      <td>5.0</td>\n",
              "    </tr>\n",
              "    <tr>\n",
              "      <th>cab49aa7c76189e7e6d55ad8c7f9eb91</th>\n",
              "      <td>5.0</td>\n",
              "    </tr>\n",
              "    <tr>\n",
              "      <th>6510b9320992123556a40f98806e512a</th>\n",
              "      <td>5.0</td>\n",
              "    </tr>\n",
              "    <tr>\n",
              "      <th>65194d9ad03e8206e3a9848f405942f1</th>\n",
              "      <td>5.0</td>\n",
              "    </tr>\n",
              "    <tr>\n",
              "      <th>6520088dce31a24d4fafaf79cfc10baa</th>\n",
              "      <td>5.0</td>\n",
              "    </tr>\n",
              "  </tbody>\n",
              "</table>\n",
              "</div>"
            ],
            "text/plain": [
              "                                  review_score_mean\n",
              "product_id                                         \n",
              "00066f42aeeb9f3007548bb9d3f33c38                5.0\n",
              "652c030867f364b558eb9f7dcbcf608d                5.0\n",
              "cae58f36738671651f3d19fee286f556                5.0\n",
              "cae2e38942c8489d9d7a87a3f525c06b                5.0\n",
              "64f1126c9715d5394b7301934c6833f0                5.0\n",
              "64fbadb8e3f6a0ac76c38ab230d661f9                5.0\n",
              "cab49aa7c76189e7e6d55ad8c7f9eb91                5.0\n",
              "6510b9320992123556a40f98806e512a                5.0\n",
              "65194d9ad03e8206e3a9848f405942f1                5.0\n",
              "6520088dce31a24d4fafaf79cfc10baa                5.0"
            ]
          },
          "metadata": {},
          "execution_count": 137
        }
      ]
    },
    {
      "cell_type": "markdown",
      "metadata": {
        "id": "8eJ-ZCfvwXTw"
      },
      "source": [
        "## 6.3 Itens Mais Populares - Maior Quantidade de Usuários que Avaliaram\n",
        "\n"
      ]
    },
    {
      "cell_type": "code",
      "metadata": {
        "colab": {
          "base_uri": "https://localhost:8080/",
          "height": 390
        },
        "id": "NN0-JiSZwZG0",
        "outputId": "020308a8-e923-460b-ed47-db116b1d764e"
      },
      "source": [
        "count = df.groupby(by='product_id', as_index=False) \\\n",
        "  .agg({'customer_id': pd.Series.nunique}) \\\n",
        "  .rename(columns={'customer_id': 'customer_id_count'})\n",
        "buy_count = count.set_index('product_id')\n",
        "top10 = buy_count.sort_values('customer_id_count', ascending = False).head(10)\n",
        "top10"
      ],
      "execution_count": 138,
      "outputs": [
        {
          "output_type": "execute_result",
          "data": {
            "text/html": [
              "<div>\n",
              "<style scoped>\n",
              "    .dataframe tbody tr th:only-of-type {\n",
              "        vertical-align: middle;\n",
              "    }\n",
              "\n",
              "    .dataframe tbody tr th {\n",
              "        vertical-align: top;\n",
              "    }\n",
              "\n",
              "    .dataframe thead th {\n",
              "        text-align: right;\n",
              "    }\n",
              "</style>\n",
              "<table border=\"1\" class=\"dataframe\">\n",
              "  <thead>\n",
              "    <tr style=\"text-align: right;\">\n",
              "      <th></th>\n",
              "      <th>customer_id_count</th>\n",
              "    </tr>\n",
              "    <tr>\n",
              "      <th>product_id</th>\n",
              "      <th></th>\n",
              "    </tr>\n",
              "  </thead>\n",
              "  <tbody>\n",
              "    <tr>\n",
              "      <th>99a4788cb24856965c36a24e339b6058</th>\n",
              "      <td>388</td>\n",
              "    </tr>\n",
              "    <tr>\n",
              "      <th>aca2eb7d00ea1a7b8ebd4e68314663af</th>\n",
              "      <td>345</td>\n",
              "    </tr>\n",
              "    <tr>\n",
              "      <th>d1c427060a0f73f6b889a5c7c61f2ac4</th>\n",
              "      <td>288</td>\n",
              "    </tr>\n",
              "    <tr>\n",
              "      <th>53b36df67ebb7c41585e8d54d6772e08</th>\n",
              "      <td>287</td>\n",
              "    </tr>\n",
              "    <tr>\n",
              "      <th>422879e10f46682990de24d770e7f83d</th>\n",
              "      <td>248</td>\n",
              "    </tr>\n",
              "    <tr>\n",
              "      <th>2b4609f8948be18874494203496bc318</th>\n",
              "      <td>246</td>\n",
              "    </tr>\n",
              "    <tr>\n",
              "      <th>154e7e31ebfa092203795c972e5804a6</th>\n",
              "      <td>243</td>\n",
              "    </tr>\n",
              "    <tr>\n",
              "      <th>3dd2a17168ec895c781a9191c1e95ad7</th>\n",
              "      <td>238</td>\n",
              "    </tr>\n",
              "    <tr>\n",
              "      <th>389d119b48cf3043d311335e499d9c6b</th>\n",
              "      <td>225</td>\n",
              "    </tr>\n",
              "    <tr>\n",
              "      <th>368c6c730842d78016ad823897a372db</th>\n",
              "      <td>205</td>\n",
              "    </tr>\n",
              "  </tbody>\n",
              "</table>\n",
              "</div>"
            ],
            "text/plain": [
              "                                  customer_id_count\n",
              "product_id                                         \n",
              "99a4788cb24856965c36a24e339b6058                388\n",
              "aca2eb7d00ea1a7b8ebd4e68314663af                345\n",
              "d1c427060a0f73f6b889a5c7c61f2ac4                288\n",
              "53b36df67ebb7c41585e8d54d6772e08                287\n",
              "422879e10f46682990de24d770e7f83d                248\n",
              "2b4609f8948be18874494203496bc318                246\n",
              "154e7e31ebfa092203795c972e5804a6                243\n",
              "3dd2a17168ec895c781a9191c1e95ad7                238\n",
              "389d119b48cf3043d311335e499d9c6b                225\n",
              "368c6c730842d78016ad823897a372db                205"
            ]
          },
          "metadata": {},
          "execution_count": 138
        }
      ]
    },
    {
      "cell_type": "markdown",
      "metadata": {
        "id": "OV3qr8CJqgxx"
      },
      "source": [
        "## 6.4 Matriz de Recomendação"
      ]
    },
    {
      "cell_type": "code",
      "metadata": {
        "id": "n4gjNwP0Ld4L"
      },
      "source": [
        "def start_pipeline(dataf):\n",
        "    return dataf.copy()\n",
        "\n",
        "def get_product_counts(dataf):\n",
        "  return dataf.groupby(by='product_id', as_index=False) \\\n",
        "    .agg({'customer_id': pd.Series.nunique}) \\\n",
        "    .rename(columns={'customer_id': 'customer_id_count'}) \\\n",
        "    .set_index('product_id') \\\n",
        "    .sort_values('customer_id_count', ascending = False)\n",
        "\n",
        "def get_avg_ratings(dataf):\n",
        "  return dataf.groupby(by='product_id', as_index=False) \\\n",
        "    .agg({'review_score': np.mean}) \\\n",
        "    .rename(columns={'review_score': 'review_score_avg'}) \\\n",
        "    .set_index('product_id') \\\n",
        "    .sort_values('review_score_avg', ascending = False)\n",
        "\n",
        "def get_n_top_values(dataf, n):\n",
        "  return dataf.head(n) \\\n",
        "    .index \\\n",
        "    .tolist()"
      ],
      "execution_count": 139,
      "outputs": []
    },
    {
      "cell_type": "code",
      "metadata": {
        "id": "4VITr9UDNVUl"
      },
      "source": [
        "def recomendar1(id_produto):\n",
        "  print(f\"Produto de interesse: {id_produto}\")\n",
        "  try:\n",
        "    produto_idx = matriz_de_relacionamento_top_product_ratings.index.tolist().index(id_produto)\n",
        "    closest_10_products = np.argsort(-cos_products[produto_idx])[1:11]\n",
        "    print(f\"Retornando 10 Produtos mais próximos de: {id_produto}.\")\n",
        "    return matriz_de_relacionamento_top_product_ratings.index[closest_10_products].tolist()\n",
        "  except ValueError as e:\n",
        "    print(f\"{id_produto}, não está incluso na matriz de recomendação. Retornando os 10 mais avaliados\")\n",
        "    return top_products_sellers"
      ],
      "execution_count": 140,
      "outputs": []
    },
    {
      "cell_type": "code",
      "metadata": {
        "colab": {
          "base_uri": "https://localhost:8080/"
        },
        "id": "dbIoM26KMZ1q",
        "outputId": "7f217d73-1f81-429d-85e1-92795bbb1de8"
      },
      "source": [
        "top_product_ratings = df \\\n",
        "  .pipe(start_pipeline) \\\n",
        "  .pipe(get_avg_ratings) \\\n",
        "  .pipe(get_n_top_values, n=1500)\n",
        "\n",
        "top_products_sellers = df \\\n",
        "  .pipe(start_pipeline) \\\n",
        "  .pipe(get_product_counts) \\\n",
        "  .pipe(get_n_top_values, n=10)\n",
        "\n",
        "top_product_ratings[:10], top_products_sellers"
      ],
      "execution_count": 141,
      "outputs": [
        {
          "output_type": "execute_result",
          "data": {
            "text/plain": [
              "(['00066f42aeeb9f3007548bb9d3f33c38',\n",
              "  '652c030867f364b558eb9f7dcbcf608d',\n",
              "  'cae58f36738671651f3d19fee286f556',\n",
              "  'cae2e38942c8489d9d7a87a3f525c06b',\n",
              "  '64f1126c9715d5394b7301934c6833f0',\n",
              "  '64fbadb8e3f6a0ac76c38ab230d661f9',\n",
              "  'cab49aa7c76189e7e6d55ad8c7f9eb91',\n",
              "  '6510b9320992123556a40f98806e512a',\n",
              "  '65194d9ad03e8206e3a9848f405942f1',\n",
              "  '6520088dce31a24d4fafaf79cfc10baa'],\n",
              " ['99a4788cb24856965c36a24e339b6058',\n",
              "  'aca2eb7d00ea1a7b8ebd4e68314663af',\n",
              "  'd1c427060a0f73f6b889a5c7c61f2ac4',\n",
              "  '53b36df67ebb7c41585e8d54d6772e08',\n",
              "  '422879e10f46682990de24d770e7f83d',\n",
              "  '2b4609f8948be18874494203496bc318',\n",
              "  '154e7e31ebfa092203795c972e5804a6',\n",
              "  '3dd2a17168ec895c781a9191c1e95ad7',\n",
              "  '389d119b48cf3043d311335e499d9c6b',\n",
              "  '368c6c730842d78016ad823897a372db'])"
            ]
          },
          "metadata": {},
          "execution_count": 141
        }
      ]
    },
    {
      "cell_type": "code",
      "metadata": {
        "colab": {
          "base_uri": "https://localhost:8080/"
        },
        "id": "_8qPWmc9NQdy",
        "outputId": "75876767-f646-4cf5-9a5c-ce7d6c8d4aa8"
      },
      "source": [
        "matriz_de_relacionamento_top_product_ratings = df[df[\"product_id\"].isin(top_product_ratings)] \\\n",
        "  .pivot_table(index=\"product_id\", columns=\"customer_id\", values=\"review_score\").fillna(0)\n",
        "\n",
        "matriz_de_relacionamento_top_product_ratings.shape"
      ],
      "execution_count": 142,
      "outputs": [
        {
          "output_type": "execute_result",
          "data": {
            "text/plain": [
              "(1500, 1980)"
            ]
          },
          "metadata": {},
          "execution_count": 142
        }
      ]
    },
    {
      "cell_type": "markdown",
      "metadata": {
        "id": "AchD7uziO4Ji"
      },
      "source": [
        "### 6.4.1 Com Similaridade de Cossenos"
      ]
    },
    {
      "cell_type": "code",
      "metadata": {
        "colab": {
          "base_uri": "https://localhost:8080/"
        },
        "id": "6Cnjw0NwNQ7I",
        "outputId": "4e786e81-bafa-40b8-d14c-711307e6e41b"
      },
      "source": [
        "cos_products = cosine_similarity(matriz_de_relacionamento_top_product_ratings)\n",
        "print(cos_products)\n",
        "cos_products.shape"
      ],
      "execution_count": 143,
      "outputs": [
        {
          "output_type": "stream",
          "name": "stdout",
          "text": [
            "[[1. 0. 0. ... 0. 0. 0.]\n",
            " [0. 1. 0. ... 0. 0. 0.]\n",
            " [0. 0. 1. ... 0. 0. 0.]\n",
            " ...\n",
            " [0. 0. 0. ... 1. 0. 0.]\n",
            " [0. 0. 0. ... 0. 1. 0.]\n",
            " [0. 0. 0. ... 0. 0. 1.]]\n"
          ]
        },
        {
          "output_type": "execute_result",
          "data": {
            "text/plain": [
              "(1500, 1500)"
            ]
          },
          "metadata": {},
          "execution_count": 143
        }
      ]
    },
    {
      "cell_type": "code",
      "metadata": {
        "colab": {
          "base_uri": "https://localhost:8080/"
        },
        "id": "fzy0KbqWNYJ5",
        "outputId": "0639a238-b42e-4b9b-85ae-2c5cac7133c5"
      },
      "source": [
        "id_livro_interesse = \"00066f42aeeb9f3007548bb9d3f33c38\"\n",
        "ids_10_mais_proximos = recomendar1(id_livro_interesse)\n",
        "ids_10_mais_proximos"
      ],
      "execution_count": 144,
      "outputs": [
        {
          "output_type": "stream",
          "name": "stdout",
          "text": [
            "Produto de interesse: 00066f42aeeb9f3007548bb9d3f33c38\n",
            "Retornando 10 Produtos mais próximos de: 00066f42aeeb9f3007548bb9d3f33c38.\n"
          ]
        },
        {
          "output_type": "execute_result",
          "data": {
            "text/plain": [
              "['c2c6d6cfda3171733ed7af121e46f6a9',\n",
              " 'c2c503e76e239d461b3e92222f6b49c5',\n",
              " 'c2c4115f38ec8f43e1052cf0735e289b',\n",
              " 'c2bcdb759a32342591497db4153af052',\n",
              " '753531d6b13f62a1aae9baefa606a470',\n",
              " '75285f54a9546fb99e970a15b52e15b6',\n",
              " '7515ab3fc02c8f43b07e9451497fb13e',\n",
              " '750d224957fab8388b6b2c7432c00e35',\n",
              " '750a49a83f6ad13ccdf4a761309483f2',\n",
              " '7500a93e5485588cedc511badf55e56e']"
            ]
          },
          "metadata": {},
          "execution_count": 144
        }
      ]
    },
    {
      "cell_type": "code",
      "metadata": {
        "colab": {
          "base_uri": "https://localhost:8080/"
        },
        "id": "St70fVZ_NaIu",
        "outputId": "cec33e34-202d-4c61-d88b-43a6062fc6c3"
      },
      "source": [
        "id_produto_novo = \"id_novo\"\n",
        "ids_10_mais_vendidos = recomendar1(id_produto_novo)\n",
        "ids_10_mais_vendidos"
      ],
      "execution_count": 145,
      "outputs": [
        {
          "output_type": "stream",
          "name": "stdout",
          "text": [
            "Produto de interesse: id_novo\n",
            "id_novo, não está incluso na matriz de recomendação. Retornando os 10 mais avaliados\n"
          ]
        },
        {
          "output_type": "execute_result",
          "data": {
            "text/plain": [
              "['99a4788cb24856965c36a24e339b6058',\n",
              " 'aca2eb7d00ea1a7b8ebd4e68314663af',\n",
              " 'd1c427060a0f73f6b889a5c7c61f2ac4',\n",
              " '53b36df67ebb7c41585e8d54d6772e08',\n",
              " '422879e10f46682990de24d770e7f83d',\n",
              " '2b4609f8948be18874494203496bc318',\n",
              " '154e7e31ebfa092203795c972e5804a6',\n",
              " '3dd2a17168ec895c781a9191c1e95ad7',\n",
              " '389d119b48cf3043d311335e499d9c6b',\n",
              " '368c6c730842d78016ad823897a372db']"
            ]
          },
          "metadata": {},
          "execution_count": 145
        }
      ]
    },
    {
      "cell_type": "markdown",
      "metadata": {
        "id": "Qc9dphSmO73u"
      },
      "source": [
        "### 6.4.2 Com Correlação de Pearson"
      ]
    },
    {
      "cell_type": "code",
      "metadata": {
        "colab": {
          "base_uri": "https://localhost:8080/"
        },
        "id": "f6duIqe2MpIv",
        "outputId": "de6aa812-4ec2-4830-f7cd-2fafacc45178"
      },
      "source": [
        "cos_products = np.corrcoef(matriz_de_relacionamento_top_product_ratings)\n",
        "print(cos_products)\n",
        "cos_products.shape"
      ],
      "execution_count": 146,
      "outputs": [
        {
          "output_type": "stream",
          "name": "stdout",
          "text": [
            "[[ 1.00000000e+00 -8.75657750e-04 -5.05305710e-04 ... -8.75657750e-04\n",
            "  -5.05305710e-04 -5.05305710e-04]\n",
            " [-8.75657750e-04  1.00000000e+00 -8.75657750e-04 ... -1.51745068e-03\n",
            "  -8.75657750e-04 -8.75657750e-04]\n",
            " [-5.05305710e-04 -8.75657750e-04  1.00000000e+00 ... -8.75657750e-04\n",
            "  -5.05305710e-04 -5.05305710e-04]\n",
            " ...\n",
            " [-8.75657750e-04 -1.51745068e-03 -8.75657750e-04 ...  1.00000000e+00\n",
            "  -8.75657750e-04 -8.75657750e-04]\n",
            " [-5.05305710e-04 -8.75657750e-04 -5.05305710e-04 ... -8.75657750e-04\n",
            "   1.00000000e+00 -5.05305710e-04]\n",
            " [-5.05305710e-04 -8.75657750e-04 -5.05305710e-04 ... -8.75657750e-04\n",
            "  -5.05305710e-04  1.00000000e+00]]\n"
          ]
        },
        {
          "output_type": "execute_result",
          "data": {
            "text/plain": [
              "(1500, 1500)"
            ]
          },
          "metadata": {},
          "execution_count": 146
        }
      ]
    },
    {
      "cell_type": "code",
      "metadata": {
        "colab": {
          "base_uri": "https://localhost:8080/"
        },
        "id": "cvNerHjROvUE",
        "outputId": "1df815ac-df65-4c8f-d3bf-3664557d339b"
      },
      "source": [
        "id_livro_interesse = \"00066f42aeeb9f3007548bb9d3f33c38\"\n",
        "ids_10_mais_proximos = recomendar1(id_livro_interesse)\n",
        "ids_10_mais_proximos"
      ],
      "execution_count": 147,
      "outputs": [
        {
          "output_type": "stream",
          "name": "stdout",
          "text": [
            "Produto de interesse: 00066f42aeeb9f3007548bb9d3f33c38\n",
            "Retornando 10 Produtos mais próximos de: 00066f42aeeb9f3007548bb9d3f33c38.\n"
          ]
        },
        {
          "output_type": "execute_result",
          "data": {
            "text/plain": [
              "['701e076c7aea72b5f668183dde0afa9a',\n",
              " '64473a39b66923a81252bb7150b63663',\n",
              " '64693ed5472651f9ea64d52a689d9ea0',\n",
              " '646c629c40a590e38c21f33ef1aca36f',\n",
              " 'c9341fe3a3cf071d813a92b6b012efde',\n",
              " 'c93b1a2e204567ed8b8b59a99456f8c4',\n",
              " '680874c570dad71c0a2844cfbf417054',\n",
              " '5e14c2beea650eac6b94bc9d446cd71a',\n",
              " 'cd8c7501d1e3a66f282dfed8dbd5ab9f',\n",
              " '746d236f81b4ae9d259030ace2833590']"
            ]
          },
          "metadata": {},
          "execution_count": 147
        }
      ]
    },
    {
      "cell_type": "code",
      "metadata": {
        "colab": {
          "base_uri": "https://localhost:8080/"
        },
        "id": "te4x-ez6OwB6",
        "outputId": "39155147-04e3-4530-9a70-acc5e3005a01"
      },
      "source": [
        "id_produto_novo = \"id_novo\"\n",
        "ids_10_mais_vendidos = recomendar1(id_produto_novo)\n",
        "ids_10_mais_vendidos"
      ],
      "execution_count": 148,
      "outputs": [
        {
          "output_type": "stream",
          "name": "stdout",
          "text": [
            "Produto de interesse: id_novo\n",
            "id_novo, não está incluso na matriz de recomendação. Retornando os 10 mais avaliados\n"
          ]
        },
        {
          "output_type": "execute_result",
          "data": {
            "text/plain": [
              "['99a4788cb24856965c36a24e339b6058',\n",
              " 'aca2eb7d00ea1a7b8ebd4e68314663af',\n",
              " 'd1c427060a0f73f6b889a5c7c61f2ac4',\n",
              " '53b36df67ebb7c41585e8d54d6772e08',\n",
              " '422879e10f46682990de24d770e7f83d',\n",
              " '2b4609f8948be18874494203496bc318',\n",
              " '154e7e31ebfa092203795c972e5804a6',\n",
              " '3dd2a17168ec895c781a9191c1e95ad7',\n",
              " '389d119b48cf3043d311335e499d9c6b',\n",
              " '368c6c730842d78016ad823897a372db']"
            ]
          },
          "metadata": {},
          "execution_count": 148
        }
      ]
    },
    {
      "cell_type": "markdown",
      "metadata": {
        "id": "RhQ_Pl9lgDY5"
      },
      "source": [
        "# 7. Analisando Novas Features - Adicional"
      ]
    },
    {
      "cell_type": "code",
      "metadata": {
        "colab": {
          "base_uri": "https://localhost:8080/",
          "height": 419
        },
        "id": "Z01DfZbvgCyu",
        "outputId": "351cf949-48e3-4b6b-e2d2-f5c6bc30db0f"
      },
      "source": [
        "df_esp = df_concat[['product_id','customer_id','review_score','product_category_name','price']]\n",
        "df_esp.reset_index\n",
        "df_esp"
      ],
      "execution_count": 149,
      "outputs": [
        {
          "output_type": "execute_result",
          "data": {
            "text/html": [
              "<div>\n",
              "<style scoped>\n",
              "    .dataframe tbody tr th:only-of-type {\n",
              "        vertical-align: middle;\n",
              "    }\n",
              "\n",
              "    .dataframe tbody tr th {\n",
              "        vertical-align: top;\n",
              "    }\n",
              "\n",
              "    .dataframe thead th {\n",
              "        text-align: right;\n",
              "    }\n",
              "</style>\n",
              "<table border=\"1\" class=\"dataframe\">\n",
              "  <thead>\n",
              "    <tr style=\"text-align: right;\">\n",
              "      <th></th>\n",
              "      <th>product_id</th>\n",
              "      <th>customer_id</th>\n",
              "      <th>review_score</th>\n",
              "      <th>product_category_name</th>\n",
              "      <th>price</th>\n",
              "    </tr>\n",
              "  </thead>\n",
              "  <tbody>\n",
              "    <tr>\n",
              "      <th>0</th>\n",
              "      <td>4244733e06e7ecb4970a6e2683c13e61</td>\n",
              "      <td>3ce436f183e68e07877b285a838db11a</td>\n",
              "      <td>5</td>\n",
              "      <td>cool_stuff</td>\n",
              "      <td>58.9</td>\n",
              "    </tr>\n",
              "    <tr>\n",
              "      <th>1</th>\n",
              "      <td>4244733e06e7ecb4970a6e2683c13e61</td>\n",
              "      <td>e6eecc5a77de221464d1c4eaff0a9b64</td>\n",
              "      <td>5</td>\n",
              "      <td>cool_stuff</td>\n",
              "      <td>55.9</td>\n",
              "    </tr>\n",
              "    <tr>\n",
              "      <th>2</th>\n",
              "      <td>4244733e06e7ecb4970a6e2683c13e61</td>\n",
              "      <td>4ef55bf80f711b372afebcb7c715344a</td>\n",
              "      <td>4</td>\n",
              "      <td>cool_stuff</td>\n",
              "      <td>64.9</td>\n",
              "    </tr>\n",
              "    <tr>\n",
              "      <th>3</th>\n",
              "      <td>4244733e06e7ecb4970a6e2683c13e61</td>\n",
              "      <td>30407a72ad8b3f4df4d15369126b20c9</td>\n",
              "      <td>5</td>\n",
              "      <td>cool_stuff</td>\n",
              "      <td>58.9</td>\n",
              "    </tr>\n",
              "    <tr>\n",
              "      <th>4</th>\n",
              "      <td>4244733e06e7ecb4970a6e2683c13e61</td>\n",
              "      <td>91a792fef70ecd8cc69d3c7feb3d12da</td>\n",
              "      <td>5</td>\n",
              "      <td>cool_stuff</td>\n",
              "      <td>58.9</td>\n",
              "    </tr>\n",
              "    <tr>\n",
              "      <th>...</th>\n",
              "      <td>...</td>\n",
              "      <td>...</td>\n",
              "      <td>...</td>\n",
              "      <td>...</td>\n",
              "      <td>...</td>\n",
              "    </tr>\n",
              "    <tr>\n",
              "      <th>112367</th>\n",
              "      <td>4cc4d02efc8f249c13355147fb44e34d</td>\n",
              "      <td>050309b91cc5e04e68841938e7984aaf</td>\n",
              "      <td>5</td>\n",
              "      <td>ferramentas_jardim</td>\n",
              "      <td>129.9</td>\n",
              "    </tr>\n",
              "    <tr>\n",
              "      <th>112368</th>\n",
              "      <td>b10ecf8e33aaaea419a9fa860ea80fb5</td>\n",
              "      <td>11e0f43ab4e2d2c48348dd9332c0ef80</td>\n",
              "      <td>4</td>\n",
              "      <td>moveis_decoracao</td>\n",
              "      <td>99.0</td>\n",
              "    </tr>\n",
              "    <tr>\n",
              "      <th>112369</th>\n",
              "      <td>dd469c03ad67e201bc2179ef077dcd48</td>\n",
              "      <td>dec8952e97ef6124259c56914fb3569c</td>\n",
              "      <td>5</td>\n",
              "      <td>relogios_presentes</td>\n",
              "      <td>736.0</td>\n",
              "    </tr>\n",
              "    <tr>\n",
              "      <th>112370</th>\n",
              "      <td>bbe7651fef80287a816ead73f065fc4b</td>\n",
              "      <td>a5201e1a6d71a8d21e869151bd5b4085</td>\n",
              "      <td>4</td>\n",
              "      <td>esporte_lazer</td>\n",
              "      <td>229.9</td>\n",
              "    </tr>\n",
              "    <tr>\n",
              "      <th>112371</th>\n",
              "      <td>350688d9dc1e75ff97be326363655e01</td>\n",
              "      <td>96d649da0cc4ff33bb408b199d4c7dcf</td>\n",
              "      <td>5</td>\n",
              "      <td>cama_mesa_banho</td>\n",
              "      <td>43.0</td>\n",
              "    </tr>\n",
              "  </tbody>\n",
              "</table>\n",
              "<p>86532 rows × 5 columns</p>\n",
              "</div>"
            ],
            "text/plain": [
              "                              product_id  ...  price\n",
              "0       4244733e06e7ecb4970a6e2683c13e61  ...   58.9\n",
              "1       4244733e06e7ecb4970a6e2683c13e61  ...   55.9\n",
              "2       4244733e06e7ecb4970a6e2683c13e61  ...   64.9\n",
              "3       4244733e06e7ecb4970a6e2683c13e61  ...   58.9\n",
              "4       4244733e06e7ecb4970a6e2683c13e61  ...   58.9\n",
              "...                                  ...  ...    ...\n",
              "112367  4cc4d02efc8f249c13355147fb44e34d  ...  129.9\n",
              "112368  b10ecf8e33aaaea419a9fa860ea80fb5  ...   99.0\n",
              "112369  dd469c03ad67e201bc2179ef077dcd48  ...  736.0\n",
              "112370  bbe7651fef80287a816ead73f065fc4b  ...  229.9\n",
              "112371  350688d9dc1e75ff97be326363655e01  ...   43.0\n",
              "\n",
              "[86532 rows x 5 columns]"
            ]
          },
          "metadata": {},
          "execution_count": 149
        }
      ]
    },
    {
      "cell_type": "code",
      "metadata": {
        "colab": {
          "base_uri": "https://localhost:8080/"
        },
        "id": "moBRnl7ugpaw",
        "outputId": "0d305872-b1ab-4880-e7fc-d98ae46f2b88"
      },
      "source": [
        "df_esp['product_category_name'] = df_esp['product_category_name'].astype('category')"
      ],
      "execution_count": 150,
      "outputs": [
        {
          "output_type": "stream",
          "name": "stderr",
          "text": [
            "/usr/local/lib/python3.7/dist-packages/ipykernel_launcher.py:1: SettingWithCopyWarning: \n",
            "A value is trying to be set on a copy of a slice from a DataFrame.\n",
            "Try using .loc[row_indexer,col_indexer] = value instead\n",
            "\n",
            "See the caveats in the documentation: https://pandas.pydata.org/pandas-docs/stable/user_guide/indexing.html#returning-a-view-versus-a-copy\n",
            "  \"\"\"Entry point for launching an IPython kernel.\n"
          ]
        }
      ]
    },
    {
      "cell_type": "code",
      "metadata": {
        "colab": {
          "base_uri": "https://localhost:8080/",
          "height": 390
        },
        "id": "HocYW2K-guL1",
        "outputId": "a55a5b34-b5db-4ea7-a56d-a471f158db3e"
      },
      "source": [
        "ratings_explicit = df_esp[df_esp['review_score'] != 0]\n",
        "ratings_sum = pd.DataFrame(ratings_explicit.groupby(['product_category_name'])['review_score'].mean())\n",
        "top10 = ratings_sum.sort_values('review_score', ascending = False).head(10)\n",
        "top10.rename(columns={'review_score': 'review_score_mean'},inplace=True)\n",
        "top10"
      ],
      "execution_count": 151,
      "outputs": [
        {
          "output_type": "execute_result",
          "data": {
            "text/html": [
              "<div>\n",
              "<style scoped>\n",
              "    .dataframe tbody tr th:only-of-type {\n",
              "        vertical-align: middle;\n",
              "    }\n",
              "\n",
              "    .dataframe tbody tr th {\n",
              "        vertical-align: top;\n",
              "    }\n",
              "\n",
              "    .dataframe thead th {\n",
              "        text-align: right;\n",
              "    }\n",
              "</style>\n",
              "<table border=\"1\" class=\"dataframe\">\n",
              "  <thead>\n",
              "    <tr style=\"text-align: right;\">\n",
              "      <th></th>\n",
              "      <th>review_score_mean</th>\n",
              "    </tr>\n",
              "    <tr>\n",
              "      <th>product_category_name</th>\n",
              "      <th></th>\n",
              "    </tr>\n",
              "  </thead>\n",
              "  <tbody>\n",
              "    <tr>\n",
              "      <th>la_cuisine</th>\n",
              "      <td>4.900000</td>\n",
              "    </tr>\n",
              "    <tr>\n",
              "      <th>cds_dvds_musicais</th>\n",
              "      <td>4.700000</td>\n",
              "    </tr>\n",
              "    <tr>\n",
              "      <th>flores</th>\n",
              "      <td>4.521739</td>\n",
              "    </tr>\n",
              "    <tr>\n",
              "      <th>livros_interesse_geral</th>\n",
              "      <td>4.485169</td>\n",
              "    </tr>\n",
              "    <tr>\n",
              "      <th>livros_tecnicos</th>\n",
              "      <td>4.454918</td>\n",
              "    </tr>\n",
              "    <tr>\n",
              "      <th>construcao_ferramentas_jardim</th>\n",
              "      <td>4.418919</td>\n",
              "    </tr>\n",
              "    <tr>\n",
              "      <th>construcao_ferramentas_ferramentas</th>\n",
              "      <td>4.404494</td>\n",
              "    </tr>\n",
              "    <tr>\n",
              "      <th>alimentos_bebidas</th>\n",
              "      <td>4.397906</td>\n",
              "    </tr>\n",
              "    <tr>\n",
              "      <th>fashion_esporte</th>\n",
              "      <td>4.391304</td>\n",
              "    </tr>\n",
              "    <tr>\n",
              "      <th>musica</th>\n",
              "      <td>4.388889</td>\n",
              "    </tr>\n",
              "  </tbody>\n",
              "</table>\n",
              "</div>"
            ],
            "text/plain": [
              "                                    review_score_mean\n",
              "product_category_name                                \n",
              "la_cuisine                                   4.900000\n",
              "cds_dvds_musicais                            4.700000\n",
              "flores                                       4.521739\n",
              "livros_interesse_geral                       4.485169\n",
              "livros_tecnicos                              4.454918\n",
              "construcao_ferramentas_jardim                4.418919\n",
              "construcao_ferramentas_ferramentas           4.404494\n",
              "alimentos_bebidas                            4.397906\n",
              "fashion_esporte                              4.391304\n",
              "musica                                       4.388889"
            ]
          },
          "metadata": {},
          "execution_count": 151
        }
      ]
    },
    {
      "cell_type": "code",
      "metadata": {
        "colab": {
          "base_uri": "https://localhost:8080/",
          "height": 390
        },
        "id": "VzE3WzW0i0gx",
        "outputId": "6a24f6ca-f468-47d6-e39c-77763bb2dcf9"
      },
      "source": [
        "ratings_explicit = df_esp[df_esp['price'] != 0]\n",
        "ratings_sum = pd.DataFrame(ratings_explicit.groupby(['product_category_name'])['price'].mean())\n",
        "top10 = ratings_sum.sort_values('price', ascending = False).head(10)\n",
        "top10.rename(columns={'price': 'price'},inplace=True)\n",
        "top10"
      ],
      "execution_count": 152,
      "outputs": [
        {
          "output_type": "execute_result",
          "data": {
            "text/html": [
              "<div>\n",
              "<style scoped>\n",
              "    .dataframe tbody tr th:only-of-type {\n",
              "        vertical-align: middle;\n",
              "    }\n",
              "\n",
              "    .dataframe tbody tr th {\n",
              "        vertical-align: top;\n",
              "    }\n",
              "\n",
              "    .dataframe thead th {\n",
              "        text-align: right;\n",
              "    }\n",
              "</style>\n",
              "<table border=\"1\" class=\"dataframe\">\n",
              "  <thead>\n",
              "    <tr style=\"text-align: right;\">\n",
              "      <th></th>\n",
              "      <th>price</th>\n",
              "    </tr>\n",
              "    <tr>\n",
              "      <th>product_category_name</th>\n",
              "      <th></th>\n",
              "    </tr>\n",
              "  </thead>\n",
              "  <tbody>\n",
              "    <tr>\n",
              "      <th>pcs</th>\n",
              "      <td>1140.976605</td>\n",
              "    </tr>\n",
              "    <tr>\n",
              "      <th>portateis_casa_forno_e_cafe</th>\n",
              "      <td>628.266351</td>\n",
              "    </tr>\n",
              "    <tr>\n",
              "      <th>eletrodomesticos_2</th>\n",
              "      <td>498.065022</td>\n",
              "    </tr>\n",
              "    <tr>\n",
              "      <th>agro_industria_e_comercio</th>\n",
              "      <td>365.199939</td>\n",
              "    </tr>\n",
              "    <tr>\n",
              "      <th>instrumentos_musicais</th>\n",
              "      <td>306.132310</td>\n",
              "    </tr>\n",
              "    <tr>\n",
              "      <th>eletroportateis</th>\n",
              "      <td>303.855209</td>\n",
              "    </tr>\n",
              "    <tr>\n",
              "      <th>portateis_cozinha_e_preparadores_de_alimentos</th>\n",
              "      <td>302.574615</td>\n",
              "    </tr>\n",
              "    <tr>\n",
              "      <th>construcao_ferramentas_seguranca</th>\n",
              "      <td>226.963219</td>\n",
              "    </tr>\n",
              "    <tr>\n",
              "      <th>relogios_presentes</th>\n",
              "      <td>214.589837</td>\n",
              "    </tr>\n",
              "    <tr>\n",
              "      <th>moveis_quarto</th>\n",
              "      <td>190.130000</td>\n",
              "    </tr>\n",
              "  </tbody>\n",
              "</table>\n",
              "</div>"
            ],
            "text/plain": [
              "                                                     price\n",
              "product_category_name                                     \n",
              "pcs                                            1140.976605\n",
              "portateis_casa_forno_e_cafe                     628.266351\n",
              "eletrodomesticos_2                              498.065022\n",
              "agro_industria_e_comercio                       365.199939\n",
              "instrumentos_musicais                           306.132310\n",
              "eletroportateis                                 303.855209\n",
              "portateis_cozinha_e_preparadores_de_alimentos   302.574615\n",
              "construcao_ferramentas_seguranca                226.963219\n",
              "relogios_presentes                              214.589837\n",
              "moveis_quarto                                   190.130000"
            ]
          },
          "metadata": {},
          "execution_count": 152
        }
      ]
    },
    {
      "cell_type": "code",
      "metadata": {
        "colab": {
          "base_uri": "https://localhost:8080/",
          "height": 439
        },
        "id": "Ip3TZmVFIjaQ",
        "outputId": "a7ec6325-de3d-44ce-c07c-03be41736244"
      },
      "source": [
        "df0 = pd.get_dummies(df_esp, prefix=['product_category_name'])\n",
        "df0"
      ],
      "execution_count": 153,
      "outputs": [
        {
          "output_type": "execute_result",
          "data": {
            "text/html": [
              "<div>\n",
              "<style scoped>\n",
              "    .dataframe tbody tr th:only-of-type {\n",
              "        vertical-align: middle;\n",
              "    }\n",
              "\n",
              "    .dataframe tbody tr th {\n",
              "        vertical-align: top;\n",
              "    }\n",
              "\n",
              "    .dataframe thead th {\n",
              "        text-align: right;\n",
              "    }\n",
              "</style>\n",
              "<table border=\"1\" class=\"dataframe\">\n",
              "  <thead>\n",
              "    <tr style=\"text-align: right;\">\n",
              "      <th></th>\n",
              "      <th>product_id</th>\n",
              "      <th>customer_id</th>\n",
              "      <th>review_score</th>\n",
              "      <th>price</th>\n",
              "      <th>product_category_name_agro_industria_e_comercio</th>\n",
              "      <th>product_category_name_alimentos</th>\n",
              "      <th>product_category_name_alimentos_bebidas</th>\n",
              "      <th>product_category_name_artes</th>\n",
              "      <th>product_category_name_artes_e_artesanato</th>\n",
              "      <th>product_category_name_artigos_de_festas</th>\n",
              "      <th>product_category_name_artigos_de_natal</th>\n",
              "      <th>product_category_name_audio</th>\n",
              "      <th>product_category_name_automotivo</th>\n",
              "      <th>product_category_name_bebes</th>\n",
              "      <th>product_category_name_bebidas</th>\n",
              "      <th>product_category_name_beleza_saude</th>\n",
              "      <th>product_category_name_brinquedos</th>\n",
              "      <th>product_category_name_cama_mesa_banho</th>\n",
              "      <th>product_category_name_casa_conforto</th>\n",
              "      <th>product_category_name_casa_conforto_2</th>\n",
              "      <th>product_category_name_casa_construcao</th>\n",
              "      <th>product_category_name_cds_dvds_musicais</th>\n",
              "      <th>product_category_name_cine_foto</th>\n",
              "      <th>product_category_name_climatizacao</th>\n",
              "      <th>product_category_name_consoles_games</th>\n",
              "      <th>product_category_name_construcao_ferramentas_construcao</th>\n",
              "      <th>product_category_name_construcao_ferramentas_ferramentas</th>\n",
              "      <th>product_category_name_construcao_ferramentas_iluminacao</th>\n",
              "      <th>product_category_name_construcao_ferramentas_jardim</th>\n",
              "      <th>product_category_name_construcao_ferramentas_seguranca</th>\n",
              "      <th>product_category_name_cool_stuff</th>\n",
              "      <th>product_category_name_dvds_blu_ray</th>\n",
              "      <th>product_category_name_eletrodomesticos</th>\n",
              "      <th>product_category_name_eletrodomesticos_2</th>\n",
              "      <th>product_category_name_eletronicos</th>\n",
              "      <th>product_category_name_eletroportateis</th>\n",
              "      <th>product_category_name_esporte_lazer</th>\n",
              "      <th>product_category_name_fashion_bolsas_e_acessorios</th>\n",
              "      <th>product_category_name_fashion_calcados</th>\n",
              "      <th>product_category_name_fashion_esporte</th>\n",
              "      <th>product_category_name_fashion_roupa_feminina</th>\n",
              "      <th>product_category_name_fashion_roupa_infanto_juvenil</th>\n",
              "      <th>product_category_name_fashion_roupa_masculina</th>\n",
              "      <th>product_category_name_fashion_underwear_e_moda_praia</th>\n",
              "      <th>product_category_name_ferramentas_jardim</th>\n",
              "      <th>product_category_name_flores</th>\n",
              "      <th>product_category_name_fraldas_higiene</th>\n",
              "      <th>product_category_name_industria_comercio_e_negocios</th>\n",
              "      <th>product_category_name_informatica_acessorios</th>\n",
              "      <th>product_category_name_instrumentos_musicais</th>\n",
              "      <th>product_category_name_la_cuisine</th>\n",
              "      <th>product_category_name_livros_importados</th>\n",
              "      <th>product_category_name_livros_interesse_geral</th>\n",
              "      <th>product_category_name_livros_tecnicos</th>\n",
              "      <th>product_category_name_malas_acessorios</th>\n",
              "      <th>product_category_name_market_place</th>\n",
              "      <th>product_category_name_moveis_colchao_e_estofado</th>\n",
              "      <th>product_category_name_moveis_cozinha_area_de_servico_jantar_e_jardim</th>\n",
              "      <th>product_category_name_moveis_decoracao</th>\n",
              "      <th>product_category_name_moveis_escritorio</th>\n",
              "      <th>product_category_name_moveis_quarto</th>\n",
              "      <th>product_category_name_moveis_sala</th>\n",
              "      <th>product_category_name_musica</th>\n",
              "      <th>product_category_name_papelaria</th>\n",
              "      <th>product_category_name_pc_gamer</th>\n",
              "      <th>product_category_name_pcs</th>\n",
              "      <th>product_category_name_perfumaria</th>\n",
              "      <th>product_category_name_pet_shop</th>\n",
              "      <th>product_category_name_portateis_casa_forno_e_cafe</th>\n",
              "      <th>product_category_name_portateis_cozinha_e_preparadores_de_alimentos</th>\n",
              "      <th>product_category_name_relogios_presentes</th>\n",
              "      <th>product_category_name_seguros_e_servicos</th>\n",
              "      <th>product_category_name_sinalizacao_e_seguranca</th>\n",
              "      <th>product_category_name_tablets_impressao_imagem</th>\n",
              "      <th>product_category_name_telefonia</th>\n",
              "      <th>product_category_name_telefonia_fixa</th>\n",
              "      <th>product_category_name_utilidades_domesticas</th>\n",
              "    </tr>\n",
              "  </thead>\n",
              "  <tbody>\n",
              "    <tr>\n",
              "      <th>0</th>\n",
              "      <td>4244733e06e7ecb4970a6e2683c13e61</td>\n",
              "      <td>3ce436f183e68e07877b285a838db11a</td>\n",
              "      <td>5</td>\n",
              "      <td>58.9</td>\n",
              "      <td>0</td>\n",
              "      <td>0</td>\n",
              "      <td>0</td>\n",
              "      <td>0</td>\n",
              "      <td>0</td>\n",
              "      <td>0</td>\n",
              "      <td>0</td>\n",
              "      <td>0</td>\n",
              "      <td>0</td>\n",
              "      <td>0</td>\n",
              "      <td>0</td>\n",
              "      <td>0</td>\n",
              "      <td>0</td>\n",
              "      <td>0</td>\n",
              "      <td>0</td>\n",
              "      <td>0</td>\n",
              "      <td>0</td>\n",
              "      <td>0</td>\n",
              "      <td>0</td>\n",
              "      <td>0</td>\n",
              "      <td>0</td>\n",
              "      <td>0</td>\n",
              "      <td>0</td>\n",
              "      <td>0</td>\n",
              "      <td>0</td>\n",
              "      <td>0</td>\n",
              "      <td>1</td>\n",
              "      <td>0</td>\n",
              "      <td>0</td>\n",
              "      <td>0</td>\n",
              "      <td>0</td>\n",
              "      <td>0</td>\n",
              "      <td>0</td>\n",
              "      <td>0</td>\n",
              "      <td>0</td>\n",
              "      <td>0</td>\n",
              "      <td>0</td>\n",
              "      <td>0</td>\n",
              "      <td>0</td>\n",
              "      <td>0</td>\n",
              "      <td>0</td>\n",
              "      <td>0</td>\n",
              "      <td>0</td>\n",
              "      <td>0</td>\n",
              "      <td>0</td>\n",
              "      <td>0</td>\n",
              "      <td>0</td>\n",
              "      <td>0</td>\n",
              "      <td>0</td>\n",
              "      <td>0</td>\n",
              "      <td>0</td>\n",
              "      <td>0</td>\n",
              "      <td>0</td>\n",
              "      <td>0</td>\n",
              "      <td>0</td>\n",
              "      <td>0</td>\n",
              "      <td>0</td>\n",
              "      <td>0</td>\n",
              "      <td>0</td>\n",
              "      <td>0</td>\n",
              "      <td>0</td>\n",
              "      <td>0</td>\n",
              "      <td>0</td>\n",
              "      <td>0</td>\n",
              "      <td>0</td>\n",
              "      <td>0</td>\n",
              "      <td>0</td>\n",
              "      <td>0</td>\n",
              "      <td>0</td>\n",
              "      <td>0</td>\n",
              "      <td>0</td>\n",
              "      <td>0</td>\n",
              "      <td>0</td>\n",
              "    </tr>\n",
              "    <tr>\n",
              "      <th>1</th>\n",
              "      <td>4244733e06e7ecb4970a6e2683c13e61</td>\n",
              "      <td>e6eecc5a77de221464d1c4eaff0a9b64</td>\n",
              "      <td>5</td>\n",
              "      <td>55.9</td>\n",
              "      <td>0</td>\n",
              "      <td>0</td>\n",
              "      <td>0</td>\n",
              "      <td>0</td>\n",
              "      <td>0</td>\n",
              "      <td>0</td>\n",
              "      <td>0</td>\n",
              "      <td>0</td>\n",
              "      <td>0</td>\n",
              "      <td>0</td>\n",
              "      <td>0</td>\n",
              "      <td>0</td>\n",
              "      <td>0</td>\n",
              "      <td>0</td>\n",
              "      <td>0</td>\n",
              "      <td>0</td>\n",
              "      <td>0</td>\n",
              "      <td>0</td>\n",
              "      <td>0</td>\n",
              "      <td>0</td>\n",
              "      <td>0</td>\n",
              "      <td>0</td>\n",
              "      <td>0</td>\n",
              "      <td>0</td>\n",
              "      <td>0</td>\n",
              "      <td>0</td>\n",
              "      <td>1</td>\n",
              "      <td>0</td>\n",
              "      <td>0</td>\n",
              "      <td>0</td>\n",
              "      <td>0</td>\n",
              "      <td>0</td>\n",
              "      <td>0</td>\n",
              "      <td>0</td>\n",
              "      <td>0</td>\n",
              "      <td>0</td>\n",
              "      <td>0</td>\n",
              "      <td>0</td>\n",
              "      <td>0</td>\n",
              "      <td>0</td>\n",
              "      <td>0</td>\n",
              "      <td>0</td>\n",
              "      <td>0</td>\n",
              "      <td>0</td>\n",
              "      <td>0</td>\n",
              "      <td>0</td>\n",
              "      <td>0</td>\n",
              "      <td>0</td>\n",
              "      <td>0</td>\n",
              "      <td>0</td>\n",
              "      <td>0</td>\n",
              "      <td>0</td>\n",
              "      <td>0</td>\n",
              "      <td>0</td>\n",
              "      <td>0</td>\n",
              "      <td>0</td>\n",
              "      <td>0</td>\n",
              "      <td>0</td>\n",
              "      <td>0</td>\n",
              "      <td>0</td>\n",
              "      <td>0</td>\n",
              "      <td>0</td>\n",
              "      <td>0</td>\n",
              "      <td>0</td>\n",
              "      <td>0</td>\n",
              "      <td>0</td>\n",
              "      <td>0</td>\n",
              "      <td>0</td>\n",
              "      <td>0</td>\n",
              "      <td>0</td>\n",
              "      <td>0</td>\n",
              "      <td>0</td>\n",
              "      <td>0</td>\n",
              "    </tr>\n",
              "    <tr>\n",
              "      <th>2</th>\n",
              "      <td>4244733e06e7ecb4970a6e2683c13e61</td>\n",
              "      <td>4ef55bf80f711b372afebcb7c715344a</td>\n",
              "      <td>4</td>\n",
              "      <td>64.9</td>\n",
              "      <td>0</td>\n",
              "      <td>0</td>\n",
              "      <td>0</td>\n",
              "      <td>0</td>\n",
              "      <td>0</td>\n",
              "      <td>0</td>\n",
              "      <td>0</td>\n",
              "      <td>0</td>\n",
              "      <td>0</td>\n",
              "      <td>0</td>\n",
              "      <td>0</td>\n",
              "      <td>0</td>\n",
              "      <td>0</td>\n",
              "      <td>0</td>\n",
              "      <td>0</td>\n",
              "      <td>0</td>\n",
              "      <td>0</td>\n",
              "      <td>0</td>\n",
              "      <td>0</td>\n",
              "      <td>0</td>\n",
              "      <td>0</td>\n",
              "      <td>0</td>\n",
              "      <td>0</td>\n",
              "      <td>0</td>\n",
              "      <td>0</td>\n",
              "      <td>0</td>\n",
              "      <td>1</td>\n",
              "      <td>0</td>\n",
              "      <td>0</td>\n",
              "      <td>0</td>\n",
              "      <td>0</td>\n",
              "      <td>0</td>\n",
              "      <td>0</td>\n",
              "      <td>0</td>\n",
              "      <td>0</td>\n",
              "      <td>0</td>\n",
              "      <td>0</td>\n",
              "      <td>0</td>\n",
              "      <td>0</td>\n",
              "      <td>0</td>\n",
              "      <td>0</td>\n",
              "      <td>0</td>\n",
              "      <td>0</td>\n",
              "      <td>0</td>\n",
              "      <td>0</td>\n",
              "      <td>0</td>\n",
              "      <td>0</td>\n",
              "      <td>0</td>\n",
              "      <td>0</td>\n",
              "      <td>0</td>\n",
              "      <td>0</td>\n",
              "      <td>0</td>\n",
              "      <td>0</td>\n",
              "      <td>0</td>\n",
              "      <td>0</td>\n",
              "      <td>0</td>\n",
              "      <td>0</td>\n",
              "      <td>0</td>\n",
              "      <td>0</td>\n",
              "      <td>0</td>\n",
              "      <td>0</td>\n",
              "      <td>0</td>\n",
              "      <td>0</td>\n",
              "      <td>0</td>\n",
              "      <td>0</td>\n",
              "      <td>0</td>\n",
              "      <td>0</td>\n",
              "      <td>0</td>\n",
              "      <td>0</td>\n",
              "      <td>0</td>\n",
              "      <td>0</td>\n",
              "      <td>0</td>\n",
              "      <td>0</td>\n",
              "    </tr>\n",
              "    <tr>\n",
              "      <th>3</th>\n",
              "      <td>4244733e06e7ecb4970a6e2683c13e61</td>\n",
              "      <td>30407a72ad8b3f4df4d15369126b20c9</td>\n",
              "      <td>5</td>\n",
              "      <td>58.9</td>\n",
              "      <td>0</td>\n",
              "      <td>0</td>\n",
              "      <td>0</td>\n",
              "      <td>0</td>\n",
              "      <td>0</td>\n",
              "      <td>0</td>\n",
              "      <td>0</td>\n",
              "      <td>0</td>\n",
              "      <td>0</td>\n",
              "      <td>0</td>\n",
              "      <td>0</td>\n",
              "      <td>0</td>\n",
              "      <td>0</td>\n",
              "      <td>0</td>\n",
              "      <td>0</td>\n",
              "      <td>0</td>\n",
              "      <td>0</td>\n",
              "      <td>0</td>\n",
              "      <td>0</td>\n",
              "      <td>0</td>\n",
              "      <td>0</td>\n",
              "      <td>0</td>\n",
              "      <td>0</td>\n",
              "      <td>0</td>\n",
              "      <td>0</td>\n",
              "      <td>0</td>\n",
              "      <td>1</td>\n",
              "      <td>0</td>\n",
              "      <td>0</td>\n",
              "      <td>0</td>\n",
              "      <td>0</td>\n",
              "      <td>0</td>\n",
              "      <td>0</td>\n",
              "      <td>0</td>\n",
              "      <td>0</td>\n",
              "      <td>0</td>\n",
              "      <td>0</td>\n",
              "      <td>0</td>\n",
              "      <td>0</td>\n",
              "      <td>0</td>\n",
              "      <td>0</td>\n",
              "      <td>0</td>\n",
              "      <td>0</td>\n",
              "      <td>0</td>\n",
              "      <td>0</td>\n",
              "      <td>0</td>\n",
              "      <td>0</td>\n",
              "      <td>0</td>\n",
              "      <td>0</td>\n",
              "      <td>0</td>\n",
              "      <td>0</td>\n",
              "      <td>0</td>\n",
              "      <td>0</td>\n",
              "      <td>0</td>\n",
              "      <td>0</td>\n",
              "      <td>0</td>\n",
              "      <td>0</td>\n",
              "      <td>0</td>\n",
              "      <td>0</td>\n",
              "      <td>0</td>\n",
              "      <td>0</td>\n",
              "      <td>0</td>\n",
              "      <td>0</td>\n",
              "      <td>0</td>\n",
              "      <td>0</td>\n",
              "      <td>0</td>\n",
              "      <td>0</td>\n",
              "      <td>0</td>\n",
              "      <td>0</td>\n",
              "      <td>0</td>\n",
              "      <td>0</td>\n",
              "      <td>0</td>\n",
              "      <td>0</td>\n",
              "    </tr>\n",
              "    <tr>\n",
              "      <th>4</th>\n",
              "      <td>4244733e06e7ecb4970a6e2683c13e61</td>\n",
              "      <td>91a792fef70ecd8cc69d3c7feb3d12da</td>\n",
              "      <td>5</td>\n",
              "      <td>58.9</td>\n",
              "      <td>0</td>\n",
              "      <td>0</td>\n",
              "      <td>0</td>\n",
              "      <td>0</td>\n",
              "      <td>0</td>\n",
              "      <td>0</td>\n",
              "      <td>0</td>\n",
              "      <td>0</td>\n",
              "      <td>0</td>\n",
              "      <td>0</td>\n",
              "      <td>0</td>\n",
              "      <td>0</td>\n",
              "      <td>0</td>\n",
              "      <td>0</td>\n",
              "      <td>0</td>\n",
              "      <td>0</td>\n",
              "      <td>0</td>\n",
              "      <td>0</td>\n",
              "      <td>0</td>\n",
              "      <td>0</td>\n",
              "      <td>0</td>\n",
              "      <td>0</td>\n",
              "      <td>0</td>\n",
              "      <td>0</td>\n",
              "      <td>0</td>\n",
              "      <td>0</td>\n",
              "      <td>1</td>\n",
              "      <td>0</td>\n",
              "      <td>0</td>\n",
              "      <td>0</td>\n",
              "      <td>0</td>\n",
              "      <td>0</td>\n",
              "      <td>0</td>\n",
              "      <td>0</td>\n",
              "      <td>0</td>\n",
              "      <td>0</td>\n",
              "      <td>0</td>\n",
              "      <td>0</td>\n",
              "      <td>0</td>\n",
              "      <td>0</td>\n",
              "      <td>0</td>\n",
              "      <td>0</td>\n",
              "      <td>0</td>\n",
              "      <td>0</td>\n",
              "      <td>0</td>\n",
              "      <td>0</td>\n",
              "      <td>0</td>\n",
              "      <td>0</td>\n",
              "      <td>0</td>\n",
              "      <td>0</td>\n",
              "      <td>0</td>\n",
              "      <td>0</td>\n",
              "      <td>0</td>\n",
              "      <td>0</td>\n",
              "      <td>0</td>\n",
              "      <td>0</td>\n",
              "      <td>0</td>\n",
              "      <td>0</td>\n",
              "      <td>0</td>\n",
              "      <td>0</td>\n",
              "      <td>0</td>\n",
              "      <td>0</td>\n",
              "      <td>0</td>\n",
              "      <td>0</td>\n",
              "      <td>0</td>\n",
              "      <td>0</td>\n",
              "      <td>0</td>\n",
              "      <td>0</td>\n",
              "      <td>0</td>\n",
              "      <td>0</td>\n",
              "      <td>0</td>\n",
              "      <td>0</td>\n",
              "      <td>0</td>\n",
              "    </tr>\n",
              "    <tr>\n",
              "      <th>...</th>\n",
              "      <td>...</td>\n",
              "      <td>...</td>\n",
              "      <td>...</td>\n",
              "      <td>...</td>\n",
              "      <td>...</td>\n",
              "      <td>...</td>\n",
              "      <td>...</td>\n",
              "      <td>...</td>\n",
              "      <td>...</td>\n",
              "      <td>...</td>\n",
              "      <td>...</td>\n",
              "      <td>...</td>\n",
              "      <td>...</td>\n",
              "      <td>...</td>\n",
              "      <td>...</td>\n",
              "      <td>...</td>\n",
              "      <td>...</td>\n",
              "      <td>...</td>\n",
              "      <td>...</td>\n",
              "      <td>...</td>\n",
              "      <td>...</td>\n",
              "      <td>...</td>\n",
              "      <td>...</td>\n",
              "      <td>...</td>\n",
              "      <td>...</td>\n",
              "      <td>...</td>\n",
              "      <td>...</td>\n",
              "      <td>...</td>\n",
              "      <td>...</td>\n",
              "      <td>...</td>\n",
              "      <td>...</td>\n",
              "      <td>...</td>\n",
              "      <td>...</td>\n",
              "      <td>...</td>\n",
              "      <td>...</td>\n",
              "      <td>...</td>\n",
              "      <td>...</td>\n",
              "      <td>...</td>\n",
              "      <td>...</td>\n",
              "      <td>...</td>\n",
              "      <td>...</td>\n",
              "      <td>...</td>\n",
              "      <td>...</td>\n",
              "      <td>...</td>\n",
              "      <td>...</td>\n",
              "      <td>...</td>\n",
              "      <td>...</td>\n",
              "      <td>...</td>\n",
              "      <td>...</td>\n",
              "      <td>...</td>\n",
              "      <td>...</td>\n",
              "      <td>...</td>\n",
              "      <td>...</td>\n",
              "      <td>...</td>\n",
              "      <td>...</td>\n",
              "      <td>...</td>\n",
              "      <td>...</td>\n",
              "      <td>...</td>\n",
              "      <td>...</td>\n",
              "      <td>...</td>\n",
              "      <td>...</td>\n",
              "      <td>...</td>\n",
              "      <td>...</td>\n",
              "      <td>...</td>\n",
              "      <td>...</td>\n",
              "      <td>...</td>\n",
              "      <td>...</td>\n",
              "      <td>...</td>\n",
              "      <td>...</td>\n",
              "      <td>...</td>\n",
              "      <td>...</td>\n",
              "      <td>...</td>\n",
              "      <td>...</td>\n",
              "      <td>...</td>\n",
              "      <td>...</td>\n",
              "      <td>...</td>\n",
              "      <td>...</td>\n",
              "    </tr>\n",
              "    <tr>\n",
              "      <th>112367</th>\n",
              "      <td>4cc4d02efc8f249c13355147fb44e34d</td>\n",
              "      <td>050309b91cc5e04e68841938e7984aaf</td>\n",
              "      <td>5</td>\n",
              "      <td>129.9</td>\n",
              "      <td>0</td>\n",
              "      <td>0</td>\n",
              "      <td>0</td>\n",
              "      <td>0</td>\n",
              "      <td>0</td>\n",
              "      <td>0</td>\n",
              "      <td>0</td>\n",
              "      <td>0</td>\n",
              "      <td>0</td>\n",
              "      <td>0</td>\n",
              "      <td>0</td>\n",
              "      <td>0</td>\n",
              "      <td>0</td>\n",
              "      <td>0</td>\n",
              "      <td>0</td>\n",
              "      <td>0</td>\n",
              "      <td>0</td>\n",
              "      <td>0</td>\n",
              "      <td>0</td>\n",
              "      <td>0</td>\n",
              "      <td>0</td>\n",
              "      <td>0</td>\n",
              "      <td>0</td>\n",
              "      <td>0</td>\n",
              "      <td>0</td>\n",
              "      <td>0</td>\n",
              "      <td>0</td>\n",
              "      <td>0</td>\n",
              "      <td>0</td>\n",
              "      <td>0</td>\n",
              "      <td>0</td>\n",
              "      <td>0</td>\n",
              "      <td>0</td>\n",
              "      <td>0</td>\n",
              "      <td>0</td>\n",
              "      <td>0</td>\n",
              "      <td>0</td>\n",
              "      <td>0</td>\n",
              "      <td>0</td>\n",
              "      <td>0</td>\n",
              "      <td>1</td>\n",
              "      <td>0</td>\n",
              "      <td>0</td>\n",
              "      <td>0</td>\n",
              "      <td>0</td>\n",
              "      <td>0</td>\n",
              "      <td>0</td>\n",
              "      <td>0</td>\n",
              "      <td>0</td>\n",
              "      <td>0</td>\n",
              "      <td>0</td>\n",
              "      <td>0</td>\n",
              "      <td>0</td>\n",
              "      <td>0</td>\n",
              "      <td>0</td>\n",
              "      <td>0</td>\n",
              "      <td>0</td>\n",
              "      <td>0</td>\n",
              "      <td>0</td>\n",
              "      <td>0</td>\n",
              "      <td>0</td>\n",
              "      <td>0</td>\n",
              "      <td>0</td>\n",
              "      <td>0</td>\n",
              "      <td>0</td>\n",
              "      <td>0</td>\n",
              "      <td>0</td>\n",
              "      <td>0</td>\n",
              "      <td>0</td>\n",
              "      <td>0</td>\n",
              "      <td>0</td>\n",
              "      <td>0</td>\n",
              "      <td>0</td>\n",
              "    </tr>\n",
              "    <tr>\n",
              "      <th>112368</th>\n",
              "      <td>b10ecf8e33aaaea419a9fa860ea80fb5</td>\n",
              "      <td>11e0f43ab4e2d2c48348dd9332c0ef80</td>\n",
              "      <td>4</td>\n",
              "      <td>99.0</td>\n",
              "      <td>0</td>\n",
              "      <td>0</td>\n",
              "      <td>0</td>\n",
              "      <td>0</td>\n",
              "      <td>0</td>\n",
              "      <td>0</td>\n",
              "      <td>0</td>\n",
              "      <td>0</td>\n",
              "      <td>0</td>\n",
              "      <td>0</td>\n",
              "      <td>0</td>\n",
              "      <td>0</td>\n",
              "      <td>0</td>\n",
              "      <td>0</td>\n",
              "      <td>0</td>\n",
              "      <td>0</td>\n",
              "      <td>0</td>\n",
              "      <td>0</td>\n",
              "      <td>0</td>\n",
              "      <td>0</td>\n",
              "      <td>0</td>\n",
              "      <td>0</td>\n",
              "      <td>0</td>\n",
              "      <td>0</td>\n",
              "      <td>0</td>\n",
              "      <td>0</td>\n",
              "      <td>0</td>\n",
              "      <td>0</td>\n",
              "      <td>0</td>\n",
              "      <td>0</td>\n",
              "      <td>0</td>\n",
              "      <td>0</td>\n",
              "      <td>0</td>\n",
              "      <td>0</td>\n",
              "      <td>0</td>\n",
              "      <td>0</td>\n",
              "      <td>0</td>\n",
              "      <td>0</td>\n",
              "      <td>0</td>\n",
              "      <td>0</td>\n",
              "      <td>0</td>\n",
              "      <td>0</td>\n",
              "      <td>0</td>\n",
              "      <td>0</td>\n",
              "      <td>0</td>\n",
              "      <td>0</td>\n",
              "      <td>0</td>\n",
              "      <td>0</td>\n",
              "      <td>0</td>\n",
              "      <td>0</td>\n",
              "      <td>0</td>\n",
              "      <td>0</td>\n",
              "      <td>0</td>\n",
              "      <td>0</td>\n",
              "      <td>1</td>\n",
              "      <td>0</td>\n",
              "      <td>0</td>\n",
              "      <td>0</td>\n",
              "      <td>0</td>\n",
              "      <td>0</td>\n",
              "      <td>0</td>\n",
              "      <td>0</td>\n",
              "      <td>0</td>\n",
              "      <td>0</td>\n",
              "      <td>0</td>\n",
              "      <td>0</td>\n",
              "      <td>0</td>\n",
              "      <td>0</td>\n",
              "      <td>0</td>\n",
              "      <td>0</td>\n",
              "      <td>0</td>\n",
              "      <td>0</td>\n",
              "      <td>0</td>\n",
              "    </tr>\n",
              "    <tr>\n",
              "      <th>112369</th>\n",
              "      <td>dd469c03ad67e201bc2179ef077dcd48</td>\n",
              "      <td>dec8952e97ef6124259c56914fb3569c</td>\n",
              "      <td>5</td>\n",
              "      <td>736.0</td>\n",
              "      <td>0</td>\n",
              "      <td>0</td>\n",
              "      <td>0</td>\n",
              "      <td>0</td>\n",
              "      <td>0</td>\n",
              "      <td>0</td>\n",
              "      <td>0</td>\n",
              "      <td>0</td>\n",
              "      <td>0</td>\n",
              "      <td>0</td>\n",
              "      <td>0</td>\n",
              "      <td>0</td>\n",
              "      <td>0</td>\n",
              "      <td>0</td>\n",
              "      <td>0</td>\n",
              "      <td>0</td>\n",
              "      <td>0</td>\n",
              "      <td>0</td>\n",
              "      <td>0</td>\n",
              "      <td>0</td>\n",
              "      <td>0</td>\n",
              "      <td>0</td>\n",
              "      <td>0</td>\n",
              "      <td>0</td>\n",
              "      <td>0</td>\n",
              "      <td>0</td>\n",
              "      <td>0</td>\n",
              "      <td>0</td>\n",
              "      <td>0</td>\n",
              "      <td>0</td>\n",
              "      <td>0</td>\n",
              "      <td>0</td>\n",
              "      <td>0</td>\n",
              "      <td>0</td>\n",
              "      <td>0</td>\n",
              "      <td>0</td>\n",
              "      <td>0</td>\n",
              "      <td>0</td>\n",
              "      <td>0</td>\n",
              "      <td>0</td>\n",
              "      <td>0</td>\n",
              "      <td>0</td>\n",
              "      <td>0</td>\n",
              "      <td>0</td>\n",
              "      <td>0</td>\n",
              "      <td>0</td>\n",
              "      <td>0</td>\n",
              "      <td>0</td>\n",
              "      <td>0</td>\n",
              "      <td>0</td>\n",
              "      <td>0</td>\n",
              "      <td>0</td>\n",
              "      <td>0</td>\n",
              "      <td>0</td>\n",
              "      <td>0</td>\n",
              "      <td>0</td>\n",
              "      <td>0</td>\n",
              "      <td>0</td>\n",
              "      <td>0</td>\n",
              "      <td>0</td>\n",
              "      <td>0</td>\n",
              "      <td>0</td>\n",
              "      <td>0</td>\n",
              "      <td>0</td>\n",
              "      <td>0</td>\n",
              "      <td>0</td>\n",
              "      <td>1</td>\n",
              "      <td>0</td>\n",
              "      <td>0</td>\n",
              "      <td>0</td>\n",
              "      <td>0</td>\n",
              "      <td>0</td>\n",
              "      <td>0</td>\n",
              "    </tr>\n",
              "    <tr>\n",
              "      <th>112370</th>\n",
              "      <td>bbe7651fef80287a816ead73f065fc4b</td>\n",
              "      <td>a5201e1a6d71a8d21e869151bd5b4085</td>\n",
              "      <td>4</td>\n",
              "      <td>229.9</td>\n",
              "      <td>0</td>\n",
              "      <td>0</td>\n",
              "      <td>0</td>\n",
              "      <td>0</td>\n",
              "      <td>0</td>\n",
              "      <td>0</td>\n",
              "      <td>0</td>\n",
              "      <td>0</td>\n",
              "      <td>0</td>\n",
              "      <td>0</td>\n",
              "      <td>0</td>\n",
              "      <td>0</td>\n",
              "      <td>0</td>\n",
              "      <td>0</td>\n",
              "      <td>0</td>\n",
              "      <td>0</td>\n",
              "      <td>0</td>\n",
              "      <td>0</td>\n",
              "      <td>0</td>\n",
              "      <td>0</td>\n",
              "      <td>0</td>\n",
              "      <td>0</td>\n",
              "      <td>0</td>\n",
              "      <td>0</td>\n",
              "      <td>0</td>\n",
              "      <td>0</td>\n",
              "      <td>0</td>\n",
              "      <td>0</td>\n",
              "      <td>0</td>\n",
              "      <td>0</td>\n",
              "      <td>0</td>\n",
              "      <td>0</td>\n",
              "      <td>1</td>\n",
              "      <td>0</td>\n",
              "      <td>0</td>\n",
              "      <td>0</td>\n",
              "      <td>0</td>\n",
              "      <td>0</td>\n",
              "      <td>0</td>\n",
              "      <td>0</td>\n",
              "      <td>0</td>\n",
              "      <td>0</td>\n",
              "      <td>0</td>\n",
              "      <td>0</td>\n",
              "      <td>0</td>\n",
              "      <td>0</td>\n",
              "      <td>0</td>\n",
              "      <td>0</td>\n",
              "      <td>0</td>\n",
              "      <td>0</td>\n",
              "      <td>0</td>\n",
              "      <td>0</td>\n",
              "      <td>0</td>\n",
              "      <td>0</td>\n",
              "      <td>0</td>\n",
              "      <td>0</td>\n",
              "      <td>0</td>\n",
              "      <td>0</td>\n",
              "      <td>0</td>\n",
              "      <td>0</td>\n",
              "      <td>0</td>\n",
              "      <td>0</td>\n",
              "      <td>0</td>\n",
              "      <td>0</td>\n",
              "      <td>0</td>\n",
              "      <td>0</td>\n",
              "      <td>0</td>\n",
              "      <td>0</td>\n",
              "      <td>0</td>\n",
              "      <td>0</td>\n",
              "      <td>0</td>\n",
              "      <td>0</td>\n",
              "      <td>0</td>\n",
              "    </tr>\n",
              "    <tr>\n",
              "      <th>112371</th>\n",
              "      <td>350688d9dc1e75ff97be326363655e01</td>\n",
              "      <td>96d649da0cc4ff33bb408b199d4c7dcf</td>\n",
              "      <td>5</td>\n",
              "      <td>43.0</td>\n",
              "      <td>0</td>\n",
              "      <td>0</td>\n",
              "      <td>0</td>\n",
              "      <td>0</td>\n",
              "      <td>0</td>\n",
              "      <td>0</td>\n",
              "      <td>0</td>\n",
              "      <td>0</td>\n",
              "      <td>0</td>\n",
              "      <td>0</td>\n",
              "      <td>0</td>\n",
              "      <td>0</td>\n",
              "      <td>0</td>\n",
              "      <td>1</td>\n",
              "      <td>0</td>\n",
              "      <td>0</td>\n",
              "      <td>0</td>\n",
              "      <td>0</td>\n",
              "      <td>0</td>\n",
              "      <td>0</td>\n",
              "      <td>0</td>\n",
              "      <td>0</td>\n",
              "      <td>0</td>\n",
              "      <td>0</td>\n",
              "      <td>0</td>\n",
              "      <td>0</td>\n",
              "      <td>0</td>\n",
              "      <td>0</td>\n",
              "      <td>0</td>\n",
              "      <td>0</td>\n",
              "      <td>0</td>\n",
              "      <td>0</td>\n",
              "      <td>0</td>\n",
              "      <td>0</td>\n",
              "      <td>0</td>\n",
              "      <td>0</td>\n",
              "      <td>0</td>\n",
              "      <td>0</td>\n",
              "      <td>0</td>\n",
              "      <td>0</td>\n",
              "      <td>0</td>\n",
              "      <td>0</td>\n",
              "      <td>0</td>\n",
              "      <td>0</td>\n",
              "      <td>0</td>\n",
              "      <td>0</td>\n",
              "      <td>0</td>\n",
              "      <td>0</td>\n",
              "      <td>0</td>\n",
              "      <td>0</td>\n",
              "      <td>0</td>\n",
              "      <td>0</td>\n",
              "      <td>0</td>\n",
              "      <td>0</td>\n",
              "      <td>0</td>\n",
              "      <td>0</td>\n",
              "      <td>0</td>\n",
              "      <td>0</td>\n",
              "      <td>0</td>\n",
              "      <td>0</td>\n",
              "      <td>0</td>\n",
              "      <td>0</td>\n",
              "      <td>0</td>\n",
              "      <td>0</td>\n",
              "      <td>0</td>\n",
              "      <td>0</td>\n",
              "      <td>0</td>\n",
              "      <td>0</td>\n",
              "      <td>0</td>\n",
              "      <td>0</td>\n",
              "      <td>0</td>\n",
              "      <td>0</td>\n",
              "      <td>0</td>\n",
              "    </tr>\n",
              "  </tbody>\n",
              "</table>\n",
              "<p>86532 rows × 77 columns</p>\n",
              "</div>"
            ],
            "text/plain": [
              "                              product_id  ... product_category_name_utilidades_domesticas\n",
              "0       4244733e06e7ecb4970a6e2683c13e61  ...                                           0\n",
              "1       4244733e06e7ecb4970a6e2683c13e61  ...                                           0\n",
              "2       4244733e06e7ecb4970a6e2683c13e61  ...                                           0\n",
              "3       4244733e06e7ecb4970a6e2683c13e61  ...                                           0\n",
              "4       4244733e06e7ecb4970a6e2683c13e61  ...                                           0\n",
              "...                                  ...  ...                                         ...\n",
              "112367  4cc4d02efc8f249c13355147fb44e34d  ...                                           0\n",
              "112368  b10ecf8e33aaaea419a9fa860ea80fb5  ...                                           0\n",
              "112369  dd469c03ad67e201bc2179ef077dcd48  ...                                           0\n",
              "112370  bbe7651fef80287a816ead73f065fc4b  ...                                           0\n",
              "112371  350688d9dc1e75ff97be326363655e01  ...                                           0\n",
              "\n",
              "[86532 rows x 77 columns]"
            ]
          },
          "metadata": {},
          "execution_count": 153
        }
      ]
    },
    {
      "cell_type": "code",
      "metadata": {
        "id": "aPeJOWBcItkN"
      },
      "source": [
        "product_category_name_dumies_costumer = df0.drop(['review_score','price','product_id'],axis=1).sample(1000)\n",
        "product_category_name_dumies_product  = df0.drop(['review_score','price','customer_id'],axis=1).sample(1000)\n",
        "product_category_name_dumies_costumer.set_index('customer_id',inplace=True)\n",
        "product_category_name_dumies_product.set_index('product_id',inplace=True)"
      ],
      "execution_count": 154,
      "outputs": []
    },
    {
      "cell_type": "code",
      "metadata": {
        "id": "6SUihyUAIvMu"
      },
      "source": [
        "product_category_name_dumies_costumer_array = product_category_name_dumies_costumer.values\n",
        "product_category_name_dumies_product_array = product_category_name_dumies_product.values"
      ],
      "execution_count": 155,
      "outputs": []
    },
    {
      "cell_type": "code",
      "metadata": {
        "id": "I9FWNL91J_kF"
      },
      "source": [
        "cos_category_costumer = cosine_similarity(product_category_name_dumies_costumer_array)\n",
        "cos_category_product = cosine_similarity(product_category_name_dumies_product_array)"
      ],
      "execution_count": 156,
      "outputs": []
    },
    {
      "cell_type": "code",
      "metadata": {
        "colab": {
          "base_uri": "https://localhost:8080/"
        },
        "id": "qKuHOnIzNFIm",
        "outputId": "a1814682-3adf-4dd9-9b08-144d7363ce81"
      },
      "source": [
        "cliente_de_interesse = product_category_name_dumies_costumer.index[random.randint(0, product_category_name_dumies_costumer.shape[0])]\n",
        "\n",
        "print(f\"Cliente de interesse: {cliente_de_interesse}\")\n",
        "\n",
        "cliente_idx = product_category_name_dumies_costumer.index.tolist().index(cliente_de_interesse)\n",
        "print(f\"Cliente id: {cliente_de_interesse},tem índice {cliente_idx}\")\n",
        "\n",
        "closest_10_users = np.argsort(-cos_category_costumer[cliente_idx])[:10]\n",
        "\n",
        "for i in zip(product_category_name_dumies_costumer.index[closest_10_users], cos_category_costumer[cliente_idx][closest_10_users]):\n",
        "    print(f\"Usuário {i[0]} tem similaridade {i[1]:.2f} com usuário {cliente_de_interesse}\")"
      ],
      "execution_count": 157,
      "outputs": [
        {
          "output_type": "stream",
          "name": "stdout",
          "text": [
            "Cliente de interesse: 98980a9f930887243ad599ff2eae3609\n",
            "Cliente id: 98980a9f930887243ad599ff2eae3609,tem índice 722\n",
            "Usuário 5219321f4cfa568d79fce57113233d7c tem similaridade 1.00 com usuário 98980a9f930887243ad599ff2eae3609\n",
            "Usuário f797b305ff4fc7689400509ea249468a tem similaridade 1.00 com usuário 98980a9f930887243ad599ff2eae3609\n",
            "Usuário f2d7ef7f86d1ad58863453789ac79985 tem similaridade 1.00 com usuário 98980a9f930887243ad599ff2eae3609\n",
            "Usuário 85b721db5eadffc2f1c2e40a3c1f6a53 tem similaridade 1.00 com usuário 98980a9f930887243ad599ff2eae3609\n",
            "Usuário a79df1f329aed9365b676532f1597740 tem similaridade 1.00 com usuário 98980a9f930887243ad599ff2eae3609\n",
            "Usuário f0507177bf9f1d580a1859b88681b5d9 tem similaridade 1.00 com usuário 98980a9f930887243ad599ff2eae3609\n",
            "Usuário b77899db8038bdab58b749545d11fd88 tem similaridade 1.00 com usuário 98980a9f930887243ad599ff2eae3609\n",
            "Usuário b0046bc2fbf6c21b9d50c60db587ca77 tem similaridade 1.00 com usuário 98980a9f930887243ad599ff2eae3609\n",
            "Usuário 7f0fdc10daead822e5db41583f613e7d tem similaridade 1.00 com usuário 98980a9f930887243ad599ff2eae3609\n",
            "Usuário 1026e80aea584174e8e7d1fd6717e87a tem similaridade 1.00 com usuário 98980a9f930887243ad599ff2eae3609\n"
          ]
        }
      ]
    },
    {
      "cell_type": "code",
      "metadata": {
        "colab": {
          "base_uri": "https://localhost:8080/"
        },
        "id": "Kbxw3WTCNfNl",
        "outputId": "91023494-15b7-4538-e12b-8d06ec3c59ea"
      },
      "source": [
        "produto_de_interesse = product_category_name_dumies_product.index[random.randint(0, product_category_name_dumies_product.shape[0])]\n",
        "\n",
        "print(f\"Produto de interesse: {produto_de_interesse}\")\n",
        "\n",
        "produto_idx = product_category_name_dumies_product.index.tolist().index(produto_de_interesse)\n",
        "print(f\"Produto id: {produto_de_interesse},tem índice {produto_idx}\")\n",
        "\n",
        "closest_10_products = np.argsort(-cos_category_product[produto_idx])[:10]\n",
        "\n",
        "for i in zip(product_category_name_dumies_product.index[closest_10_products], cos_category_product[cliente_idx][closest_10_products]):\n",
        "    print(f\"Produto {i[0]} tem similaridade {i[1]:.2f} com produto {produto_de_interesse}\")"
      ],
      "execution_count": 158,
      "outputs": [
        {
          "output_type": "stream",
          "name": "stdout",
          "text": [
            "Produto de interesse: aadff88486740e0b0ebe2be6c09476ae\n",
            "Produto id: aadff88486740e0b0ebe2be6c09476ae,tem índice 201\n",
            "Produto e2b9252181ddde232e0bfb68df262610 tem similaridade 0.00 com produto aadff88486740e0b0ebe2be6c09476ae\n",
            "Produto 89f055104adb9365d7f7b5c475f77742 tem similaridade 0.00 com produto aadff88486740e0b0ebe2be6c09476ae\n",
            "Produto e0cf79767c5b016251fe139915c59a26 tem similaridade 0.00 com produto aadff88486740e0b0ebe2be6c09476ae\n",
            "Produto a78b102a4520ca6cf50885443c44080b tem similaridade 0.00 com produto aadff88486740e0b0ebe2be6c09476ae\n",
            "Produto 49d7eb00f7557973ece1df7ff7ed415b tem similaridade 0.00 com produto aadff88486740e0b0ebe2be6c09476ae\n",
            "Produto b8b426747049f2d3d6e00b486d47dedb tem similaridade 0.00 com produto aadff88486740e0b0ebe2be6c09476ae\n",
            "Produto 9e10ae46a3021a02f1692448ef9fa1db tem similaridade 0.00 com produto aadff88486740e0b0ebe2be6c09476ae\n",
            "Produto 9453bde60c4ee52155c963641736cfc5 tem similaridade 0.00 com produto aadff88486740e0b0ebe2be6c09476ae\n",
            "Produto 466bf8874eb69e8561cf834878015050 tem similaridade 0.00 com produto aadff88486740e0b0ebe2be6c09476ae\n",
            "Produto 2722b7e5f68e776d18fe901638034e54 tem similaridade 0.00 com produto aadff88486740e0b0ebe2be6c09476ae\n"
          ]
        }
      ]
    }
  ]
}